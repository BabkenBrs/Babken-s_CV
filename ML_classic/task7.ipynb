{
 "cells": [
  {
   "cell_type": "markdown",
   "metadata": {},
   "source": [
    "# <a href=\"https://mipt-stats.gitlab.io/courses/ad_fivt.html\">Введение в анализ данных</a>\n",
    "## Домашнее задание 7. Решающие деревья и случайные леса.\n"
   ]
  },
  {
   "cell_type": "markdown",
   "metadata": {},
   "source": [
    "**Правила, <font color=\"red\">прочитайте внимательно</font>:**\n",
    "\n",
    "* Выполненную работу нужно отправить телеграм-боту `@miptstats_ds22_bot`. Для начала работы с ботом каждый раз отправляйте `/start`. **Работы, присланные иным способом, не принимаются.**\n",
    "* Дедлайн см. в боте. После дедлайна работы не принимаются кроме случаев наличия уважительной причины.\n",
    "* Прислать нужно **ноутбук в формате `ipynb`**.\n",
    "* Следите за размером файлов. **Бот не может принимать файлы весом более 20 Мб.** Если файл получается больше, заранее разделите его на несколько.\n",
    "* Выполнять задание необходимо полностью самостоятельно. **При обнаружении списывания все участники списывания будут сдавать устный зачет.**\n",
    "* Решения, размещенные на каких-либо интернет-ресурсах, не принимаются. Кроме того, публикация решения в открытом доступе может быть приравнена к предоставлении возможности списать.\n",
    "* Для выполнения задания используйте этот ноутбук в качестве основы, ничего не удаляя из него. Можно добавлять необходимое количество ячеек.\n",
    "* Комментарии к решению пишите в markdown-ячейках.\n",
    "* Выполнение задания (ход решения, выводы и пр.) должно быть осуществлено на русском языке.\n",
    "* Если код будет не понятен проверяющему, оценка может быть снижена.\n",
    "* Никакой код из данного задания при проверке запускаться не будет. *Если код студента не выполнен, недописан и т.д., то он не оценивается.*\n",
    "\n",
    "\n",
    "**Баллы за задание:**\n",
    "\n",
    "* Задача 1 &mdash; 15 баллов\n",
    "* Задача 2 &mdash; 50 баллов\n",
    "* Задача 3 &mdash; 30 баллов\n",
    "\n",
    "Баллы учитываются в <b><font color=\"green\">факультативной части</font></b> курса и не влияют на оценку по основной части."
   ]
  },
  {
   "cell_type": "code",
   "execution_count": 1,
   "metadata": {},
   "outputs": [],
   "source": [
    "import numpy as np\n",
    "import pandas as pd\n",
    "import matplotlib.pyplot as plt\n",
    "import seaborn as sns\n",
    "\n",
    "sns.set(style='whitegrid', font_scale=1.5, palette='Set2')\n",
    "%matplotlib inline"
   ]
  },
  {
   "cell_type": "markdown",
   "metadata": {},
   "source": [
    "При решении задания используйте `sklearn`. Пропишите сюда необходимые импорты"
   ]
  },
  {
   "cell_type": "code",
   "execution_count": 2,
   "metadata": {},
   "outputs": [],
   "source": [
    "import warnings\n",
    "import graphviz\n",
    "from sklearn import datasets\n",
    "from sklearn.metrics import accuracy_score, mean_squared_error\n",
    "from sklearn.tree import DecisionTreeClassifier, DecisionTreeRegressor, export_graphviz\n",
    "from sklearn.ensemble import RandomForestClassifier, RandomForestRegressor\n",
    "from sklearn.model_selection import train_test_split\n",
    "from sklearn.preprocessing import OneHotEncoder\n",
    "from sklearn import metrics\n",
    "\n",
    "warnings.filterwarnings(\"ignore\")"
   ]
  },
  {
   "cell_type": "markdown",
   "metadata": {},
   "source": [
    "Перед выполнением задания обязательно посмотрите <a href=\"https://mipt-stats.gitlab.io/courses/ad_fivt/trees.html\">ноутбук</a> с занятия по решающим деревьям."
   ]
  },
  {
   "cell_type": "markdown",
   "metadata": {},
   "source": [
    "---\n",
    "### Задача 1.\n",
    "\n",
    "Перед обучением линейной регрессии вы могли совершать некоторые преобразования над признаками. Какие преобразования стоит совершить перед обучением решающего дерева?\n",
    "\n",
    "В частности, ответьте на вопрос, имеет ли смысл примененять следующие преобразования:\n",
    "* монотонные функции от одного признака;\n",
    "* немонотонные функции от одного признака;\n",
    "* линейные функции от нескольких признаков;\n",
    "* нелинейные функции от нескольких признаков;\n",
    "* стандартизация признаков;\n",
    "* преобразования категориальных признаков."
   ]
  },
  {
   "cell_type": "markdown",
   "metadata": {},
   "source": [
    "**1)** Монотонные функции от одного признака не имеет смысла применять, так как изменяется лишь масштаб. Порог будет также делить выборку, как делил до преобразования.\n",
    "\n",
    "**2)** Немонотонные функции от одного признака можно применить, скорее всего. Например, может быть следующий случай: у нас есть признак, который принимает отрицательные и положительные значения. И мы считаем, что на прогноз данный признак влияет симметрично, т.е., например, значения -2 и 2, -3 и 3 имеют одно и то же влияние на нашу целевую перемнную. Тогда имеет смысл взять квадрат от признака или абсолютное значение и искать порог в преобразованной переменной.\n",
    "\n",
    "**3, 4)** Линейных и нелинейных функций, скорее всего, можно применять на наших данных если это имеет какой-то смысл. Но стоит понимать, что в таком случае можно навредить интерпретации, потому что крайне редко можно подобным образом получить что-то хорошо интерпретируемое. Также не очень понятно, какую функцию нужно брать.\n",
    "\n",
    "**5)** Стандартизация признаков не имеет смысла, потому что опять же только масштаб порога уменьшится, деление выборки останется прежней. Даже больше, после стандартизации мы потеряем интерпретируемость.\n",
    "\n",
    "**6)** Что касается преобразования категориальных признаков - здесь оно обязательно. Можно привести очень простой пример. Допустим мы рассматриваем количество арендованных велосипедов, как целевую переменную. Возьмем категориальный признак - сезон. Причем пронумеруем его следующим образом: 1 - лето, 2 - осень, 3 - зима, 4 - весна. Если мы что-то хотим сделать по данному признаку, то взять какой-то порог и рассматривать меньше и больше мы не можем по одной простой причине - мы ожидаем, что летом и весной арендовать будут больше велосипедов, чем осенью и зимой, но лето у нас 1, а весна 4. Все остальные сезоны лежат между ними, поэтому порог мы не подберем. Поэтому имеет смысл применить OneHotEncoding."
   ]
  },
  {
   "cell_type": "markdown",
   "metadata": {},
   "source": [
    "---\n",
    "### Задача 2.\n",
    "\n",
    "Рассмотрим данные из <a href=\"https://mipt-stats.gitlab.io/courses/ad_fivt/task6.html\" target=\"_blank\">предыдущего домашнего задания</a>. Скачайте данные и разделите их на три части &mdash; обучающую, валидационную и тестовую в соотношении 3:1:1."
   ]
  },
  {
   "cell_type": "code",
   "execution_count": 3,
   "metadata": {},
   "outputs": [
    {
     "data": {
      "text/html": [
       "<div>\n",
       "<style scoped>\n",
       "    .dataframe tbody tr th:only-of-type {\n",
       "        vertical-align: middle;\n",
       "    }\n",
       "\n",
       "    .dataframe tbody tr th {\n",
       "        vertical-align: top;\n",
       "    }\n",
       "\n",
       "    .dataframe thead th {\n",
       "        text-align: right;\n",
       "    }\n",
       "</style>\n",
       "<table border=\"1\" class=\"dataframe\">\n",
       "  <thead>\n",
       "    <tr style=\"text-align: right;\">\n",
       "      <th></th>\n",
       "      <th>season</th>\n",
       "      <th>mnth</th>\n",
       "      <th>holiday</th>\n",
       "      <th>weekday</th>\n",
       "      <th>workingday</th>\n",
       "      <th>temp</th>\n",
       "      <th>atemp</th>\n",
       "      <th>hum</th>\n",
       "      <th>windspeed</th>\n",
       "      <th>cnt</th>\n",
       "    </tr>\n",
       "  </thead>\n",
       "  <tbody>\n",
       "    <tr>\n",
       "      <th>0</th>\n",
       "      <td>1</td>\n",
       "      <td>1</td>\n",
       "      <td>0</td>\n",
       "      <td>6</td>\n",
       "      <td>0</td>\n",
       "      <td>0.344167</td>\n",
       "      <td>0.363625</td>\n",
       "      <td>0.805833</td>\n",
       "      <td>0.160446</td>\n",
       "      <td>985</td>\n",
       "    </tr>\n",
       "    <tr>\n",
       "      <th>1</th>\n",
       "      <td>1</td>\n",
       "      <td>1</td>\n",
       "      <td>0</td>\n",
       "      <td>0</td>\n",
       "      <td>0</td>\n",
       "      <td>0.363478</td>\n",
       "      <td>0.353739</td>\n",
       "      <td>0.696087</td>\n",
       "      <td>0.248539</td>\n",
       "      <td>801</td>\n",
       "    </tr>\n",
       "    <tr>\n",
       "      <th>2</th>\n",
       "      <td>1</td>\n",
       "      <td>1</td>\n",
       "      <td>0</td>\n",
       "      <td>1</td>\n",
       "      <td>1</td>\n",
       "      <td>0.196364</td>\n",
       "      <td>0.189405</td>\n",
       "      <td>0.437273</td>\n",
       "      <td>0.248309</td>\n",
       "      <td>1349</td>\n",
       "    </tr>\n",
       "    <tr>\n",
       "      <th>3</th>\n",
       "      <td>1</td>\n",
       "      <td>1</td>\n",
       "      <td>0</td>\n",
       "      <td>2</td>\n",
       "      <td>1</td>\n",
       "      <td>0.200000</td>\n",
       "      <td>0.212122</td>\n",
       "      <td>0.590435</td>\n",
       "      <td>0.160296</td>\n",
       "      <td>1562</td>\n",
       "    </tr>\n",
       "    <tr>\n",
       "      <th>4</th>\n",
       "      <td>1</td>\n",
       "      <td>1</td>\n",
       "      <td>0</td>\n",
       "      <td>3</td>\n",
       "      <td>1</td>\n",
       "      <td>0.226957</td>\n",
       "      <td>0.229270</td>\n",
       "      <td>0.436957</td>\n",
       "      <td>0.186900</td>\n",
       "      <td>1600</td>\n",
       "    </tr>\n",
       "  </tbody>\n",
       "</table>\n",
       "</div>"
      ],
      "text/plain": [
       "   season  mnth  holiday  weekday  workingday      temp     atemp       hum  \\\n",
       "0       1     1        0        6           0  0.344167  0.363625  0.805833   \n",
       "1       1     1        0        0           0  0.363478  0.353739  0.696087   \n",
       "2       1     1        0        1           1  0.196364  0.189405  0.437273   \n",
       "3       1     1        0        2           1  0.200000  0.212122  0.590435   \n",
       "4       1     1        0        3           1  0.226957  0.229270  0.436957   \n",
       "\n",
       "   windspeed   cnt  \n",
       "0   0.160446   985  \n",
       "1   0.248539   801  \n",
       "2   0.248309  1349  \n",
       "3   0.160296  1562  \n",
       "4   0.186900  1600  "
      ]
     },
     "execution_count": 3,
     "metadata": {},
     "output_type": "execute_result"
    }
   ],
   "source": [
    "data = pd.read_csv('day.csv')\n",
    "new_data = data[['season', 'mnth', 'holiday', 'weekday', 'workingday', 'temp', 'atemp', 'hum', 'windspeed', 'cnt']]\n",
    "new_data.head()"
   ]
  },
  {
   "cell_type": "code",
   "execution_count": 4,
   "metadata": {},
   "outputs": [],
   "source": [
    "train, rem = train_test_split(new_data, train_size=0.6)\n",
    "valid, test = train_test_split(rem, test_size=0.5)"
   ]
  },
  {
   "cell_type": "markdown",
   "metadata": {},
   "source": [
    "Выполните необходимые преобразования признаков"
   ]
  },
  {
   "cell_type": "code",
   "execution_count": 5,
   "metadata": {},
   "outputs": [],
   "source": [
    "categorial_features = ['season','mnth', 'holiday', 'weekday', 'workingday']  # категориальные признаки\n",
    "real_features = ['temp', 'atemp', 'hum', 'windspeed']  # вещественные признаки\n",
    "target_feature = 'cnt'  # целевой признак"
   ]
  },
  {
   "cell_type": "code",
   "execution_count": 6,
   "metadata": {},
   "outputs": [],
   "source": [
    "encoder = OneHotEncoder(sparse=False) \n",
    "train_cat = encoder.fit_transform(train[categorial_features])  \n",
    "valid_cat = encoder.fit_transform(valid[categorial_features])\n",
    "test_cat = encoder.fit_transform(test[categorial_features])"
   ]
  },
  {
   "cell_type": "code",
   "execution_count": 7,
   "metadata": {},
   "outputs": [],
   "source": [
    "X_train = np.hstack([train[real_features], train_cat])\n",
    "X_valid = np.hstack([valid[real_features], valid_cat])\n",
    "X_test = np.hstack([test[real_features], test_cat])"
   ]
  },
  {
   "cell_type": "code",
   "execution_count": 8,
   "metadata": {},
   "outputs": [],
   "source": [
    "y_train = train[target_feature]\n",
    "y_valid = valid[target_feature]\n",
    "y_test = test[target_feature]"
   ]
  },
  {
   "cell_type": "code",
   "execution_count": 9,
   "metadata": {},
   "outputs": [
    {
     "data": {
      "text/plain": [
       "[array([1, 2, 3, 4]),\n",
       " array([ 1,  2,  3,  4,  5,  6,  7,  8,  9, 10, 11, 12]),\n",
       " array([0, 1]),\n",
       " array([0, 1, 2, 3, 4, 5, 6]),\n",
       " array([0, 1])]"
      ]
     },
     "execution_count": 9,
     "metadata": {},
     "output_type": "execute_result"
    }
   ],
   "source": [
    "encoder.categories_"
   ]
  },
  {
   "cell_type": "code",
   "execution_count": 10,
   "metadata": {},
   "outputs": [],
   "source": [
    "new_categorial_features = ['весна', 'лето', 'осень', 'зима', 'Январь', 'Февраль', 'Март', 'Апрель', 'Май',\n",
    "                           'Июнь', 'Июль', 'Август', 'Сентябрь', 'Октябрь', 'Ноябрь', 'Декабрь', 'каникулы', 'не каникулы', \n",
    "                          'Понедельник', 'Вторник', 'Среда', 'Четверг', 'Пятница', 'Суббота', 'Воскресенье', 'выходной', 'рабочий']"
   ]
  },
  {
   "cell_type": "markdown",
   "metadata": {},
   "source": [
    "Обучите решающее дерево глубины 3 и визуализируйте его"
   ]
  },
  {
   "cell_type": "code",
   "execution_count": 11,
   "metadata": {},
   "outputs": [
    {
     "data": {
      "text/plain": [
       "DecisionTreeRegressor(max_depth=3)"
      ]
     },
     "execution_count": 11,
     "metadata": {},
     "output_type": "execute_result"
    }
   ],
   "source": [
    "estimator_for_visualisation = DecisionTreeRegressor(max_depth=3)\n",
    "estimator_for_visualisation.fit(X_train, y_train)"
   ]
  },
  {
   "cell_type": "code",
   "execution_count": 12,
   "metadata": {},
   "outputs": [],
   "source": [
    "def get_graphviz_graph(decision_tree_regressor):\n",
    "    \n",
    "    dot_data = export_graphviz(\n",
    "        decision_tree_regressor, out_file=None, \n",
    "        feature_names=[*real_features, *new_categorial_features], class_names='cnt',  \n",
    "        filled=True, rounded=True, special_characters=True\n",
    "    )  \n",
    "    return graphviz.Source(dot_data)  "
   ]
  },
  {
   "cell_type": "code",
   "execution_count": 13,
   "metadata": {},
   "outputs": [
    {
     "data": {
      "image/svg+xml": [
       "<?xml version=\"1.0\" encoding=\"UTF-8\" standalone=\"no\"?>\n",
       "<!DOCTYPE svg PUBLIC \"-//W3C//DTD SVG 1.1//EN\"\n",
       " \"http://www.w3.org/Graphics/SVG/1.1/DTD/svg11.dtd\">\n",
       "<!-- Generated by graphviz version 2.43.0 (0)\n",
       " -->\n",
       "<!-- Title: Tree Pages: 1 -->\n",
       "<svg width=\"1361pt\" height=\"373pt\"\n",
       " viewBox=\"0.00 0.00 1360.50 373.00\" xmlns=\"http://www.w3.org/2000/svg\" xmlns:xlink=\"http://www.w3.org/1999/xlink\">\n",
       "<g id=\"graph0\" class=\"graph\" transform=\"scale(1 1) rotate(0) translate(4 369)\">\n",
       "<title>Tree</title>\n",
       "<polygon fill=\"white\" stroke=\"transparent\" points=\"-4,4 -4,-369 1356.5,-369 1356.5,4 -4,4\"/>\n",
       "<!-- 0 -->\n",
       "<g id=\"node1\" class=\"node\">\n",
       "<title>0</title>\n",
       "<path fill=\"#eda674\" stroke=\"black\" d=\"M757.5,-365C757.5,-365 620.5,-365 620.5,-365 614.5,-365 608.5,-359 608.5,-353 608.5,-353 608.5,-309 608.5,-309 608.5,-303 614.5,-297 620.5,-297 620.5,-297 757.5,-297 757.5,-297 763.5,-297 769.5,-303 769.5,-309 769.5,-309 769.5,-353 769.5,-353 769.5,-359 763.5,-365 757.5,-365\"/>\n",
       "<text text-anchor=\"start\" x=\"640\" y=\"-349.8\" font-family=\"Helvetica,sans-Serif\" font-size=\"14.00\">temp ≤ 0.432</text>\n",
       "<text text-anchor=\"start\" x=\"616.5\" y=\"-334.8\" font-family=\"Helvetica,sans-Serif\" font-size=\"14.00\">mse = 3862539.992</text>\n",
       "<text text-anchor=\"start\" x=\"636\" y=\"-319.8\" font-family=\"Helvetica,sans-Serif\" font-size=\"14.00\">samples = 438</text>\n",
       "<text text-anchor=\"start\" x=\"630\" y=\"-304.8\" font-family=\"Helvetica,sans-Serif\" font-size=\"14.00\">value = 4535.79</text>\n",
       "</g>\n",
       "<!-- 1 -->\n",
       "<g id=\"node2\" class=\"node\">\n",
       "<title>1</title>\n",
       "<path fill=\"#f6d2b9\" stroke=\"black\" d=\"M578.5,-261C578.5,-261 441.5,-261 441.5,-261 435.5,-261 429.5,-255 429.5,-249 429.5,-249 429.5,-205 429.5,-205 429.5,-199 435.5,-193 441.5,-193 441.5,-193 578.5,-193 578.5,-193 584.5,-193 590.5,-199 590.5,-205 590.5,-205 590.5,-249 590.5,-249 590.5,-255 584.5,-261 578.5,-261\"/>\n",
       "<text text-anchor=\"start\" x=\"457\" y=\"-245.8\" font-family=\"Helvetica,sans-Serif\" font-size=\"14.00\">atemp ≤ 0.261</text>\n",
       "<text text-anchor=\"start\" x=\"437.5\" y=\"-230.8\" font-family=\"Helvetica,sans-Serif\" font-size=\"14.00\">mse = 1992908.407</text>\n",
       "<text text-anchor=\"start\" x=\"457\" y=\"-215.8\" font-family=\"Helvetica,sans-Serif\" font-size=\"14.00\">samples = 180</text>\n",
       "<text text-anchor=\"start\" x=\"446.5\" y=\"-200.8\" font-family=\"Helvetica,sans-Serif\" font-size=\"14.00\">value = 2995.356</text>\n",
       "</g>\n",
       "<!-- 0&#45;&gt;1 -->\n",
       "<g id=\"edge1\" class=\"edge\">\n",
       "<title>0&#45;&gt;1</title>\n",
       "<path fill=\"none\" stroke=\"black\" d=\"M630.88,-296.88C613.76,-287.12 594.88,-276.37 577.23,-266.31\"/>\n",
       "<polygon fill=\"black\" stroke=\"black\" points=\"578.55,-263.03 568.13,-261.12 575.09,-269.12 578.55,-263.03\"/>\n",
       "<text text-anchor=\"middle\" x=\"574.74\" y=\"-281.54\" font-family=\"Helvetica,sans-Serif\" font-size=\"14.00\">True</text>\n",
       "</g>\n",
       "<!-- 8 -->\n",
       "<g id=\"node9\" class=\"node\">\n",
       "<title>8</title>\n",
       "<path fill=\"#e68844\" stroke=\"black\" d=\"M923.5,-261C923.5,-261 786.5,-261 786.5,-261 780.5,-261 774.5,-255 774.5,-249 774.5,-249 774.5,-205 774.5,-205 774.5,-199 780.5,-193 786.5,-193 786.5,-193 923.5,-193 923.5,-193 929.5,-193 935.5,-199 935.5,-205 935.5,-205 935.5,-249 935.5,-249 935.5,-255 929.5,-261 923.5,-261\"/>\n",
       "<text text-anchor=\"start\" x=\"808\" y=\"-245.8\" font-family=\"Helvetica,sans-Serif\" font-size=\"14.00\">hum ≤ 0.811</text>\n",
       "<text text-anchor=\"start\" x=\"782.5\" y=\"-230.8\" font-family=\"Helvetica,sans-Serif\" font-size=\"14.00\">mse = 2356369.211</text>\n",
       "<text text-anchor=\"start\" x=\"802\" y=\"-215.8\" font-family=\"Helvetica,sans-Serif\" font-size=\"14.00\">samples = 258</text>\n",
       "<text text-anchor=\"start\" x=\"791.5\" y=\"-200.8\" font-family=\"Helvetica,sans-Serif\" font-size=\"14.00\">value = 5610.512</text>\n",
       "</g>\n",
       "<!-- 0&#45;&gt;8 -->\n",
       "<g id=\"edge8\" class=\"edge\">\n",
       "<title>0&#45;&gt;8</title>\n",
       "<path fill=\"none\" stroke=\"black\" d=\"M742.9,-296.88C758.63,-287.21 775.97,-276.56 792.2,-266.59\"/>\n",
       "<polygon fill=\"black\" stroke=\"black\" points=\"794.4,-269.34 801.09,-261.12 790.74,-263.38 794.4,-269.34\"/>\n",
       "<text text-anchor=\"middle\" x=\"795.28\" y=\"-281.74\" font-family=\"Helvetica,sans-Serif\" font-size=\"14.00\">False</text>\n",
       "</g>\n",
       "<!-- 2 -->\n",
       "<g id=\"node3\" class=\"node\">\n",
       "<title>2</title>\n",
       "<path fill=\"#fdf4ed\" stroke=\"black\" d=\"M310,-157C310,-157 182,-157 182,-157 176,-157 170,-151 170,-145 170,-145 170,-101 170,-101 170,-95 176,-89 182,-89 182,-89 310,-89 310,-89 316,-89 322,-95 322,-101 322,-101 322,-145 322,-145 322,-151 316,-157 310,-157\"/>\n",
       "<text text-anchor=\"start\" x=\"199\" y=\"-141.8\" font-family=\"Helvetica,sans-Serif\" font-size=\"14.00\">hum ≤ 0.584</text>\n",
       "<text text-anchor=\"start\" x=\"178\" y=\"-126.8\" font-family=\"Helvetica,sans-Serif\" font-size=\"14.00\">mse = 481267.165</text>\n",
       "<text text-anchor=\"start\" x=\"197.5\" y=\"-111.8\" font-family=\"Helvetica,sans-Serif\" font-size=\"14.00\">samples = 48</text>\n",
       "<text text-anchor=\"start\" x=\"182.5\" y=\"-96.8\" font-family=\"Helvetica,sans-Serif\" font-size=\"14.00\">value = 1823.958</text>\n",
       "</g>\n",
       "<!-- 1&#45;&gt;2 -->\n",
       "<g id=\"edge2\" class=\"edge\">\n",
       "<title>1&#45;&gt;2</title>\n",
       "<path fill=\"none\" stroke=\"black\" d=\"M429.36,-194.84C398.44,-182.9 363.06,-169.23 331.69,-157.11\"/>\n",
       "<polygon fill=\"black\" stroke=\"black\" points=\"332.68,-153.74 322.09,-153.4 330.16,-160.27 332.68,-153.74\"/>\n",
       "</g>\n",
       "<!-- 5 -->\n",
       "<g id=\"node6\" class=\"node\">\n",
       "<title>5</title>\n",
       "<path fill=\"#f3c6a6\" stroke=\"black\" d=\"M578.5,-157C578.5,-157 441.5,-157 441.5,-157 435.5,-157 429.5,-151 429.5,-145 429.5,-145 429.5,-101 429.5,-101 429.5,-95 435.5,-89 441.5,-89 441.5,-89 578.5,-89 578.5,-89 584.5,-89 590.5,-95 590.5,-101 590.5,-101 590.5,-145 590.5,-145 590.5,-151 584.5,-157 578.5,-157\"/>\n",
       "<text text-anchor=\"start\" x=\"463\" y=\"-141.8\" font-family=\"Helvetica,sans-Serif\" font-size=\"14.00\">hum ≤ 0.813</text>\n",
       "<text text-anchor=\"start\" x=\"437.5\" y=\"-126.8\" font-family=\"Helvetica,sans-Serif\" font-size=\"14.00\">mse = 1862180.535</text>\n",
       "<text text-anchor=\"start\" x=\"457\" y=\"-111.8\" font-family=\"Helvetica,sans-Serif\" font-size=\"14.00\">samples = 132</text>\n",
       "<text text-anchor=\"start\" x=\"446.5\" y=\"-96.8\" font-family=\"Helvetica,sans-Serif\" font-size=\"14.00\">value = 3421.318</text>\n",
       "</g>\n",
       "<!-- 1&#45;&gt;5 -->\n",
       "<g id=\"edge5\" class=\"edge\">\n",
       "<title>1&#45;&gt;5</title>\n",
       "<path fill=\"none\" stroke=\"black\" d=\"M510,-192.88C510,-184.78 510,-175.98 510,-167.47\"/>\n",
       "<polygon fill=\"black\" stroke=\"black\" points=\"513.5,-167.3 510,-157.3 506.5,-167.3 513.5,-167.3\"/>\n",
       "</g>\n",
       "<!-- 3 -->\n",
       "<g id=\"node4\" class=\"node\">\n",
       "<title>3</title>\n",
       "<path fill=\"#fcefe5\" stroke=\"black\" d=\"M140,-53C140,-53 12,-53 12,-53 6,-53 0,-47 0,-41 0,-41 0,-12 0,-12 0,-6 6,0 12,0 12,0 140,0 140,0 146,0 152,-6 152,-12 152,-12 152,-41 152,-41 152,-47 146,-53 140,-53\"/>\n",
       "<text text-anchor=\"start\" x=\"8\" y=\"-37.8\" font-family=\"Helvetica,sans-Serif\" font-size=\"14.00\">mse = 439714.022</text>\n",
       "<text text-anchor=\"start\" x=\"27.5\" y=\"-22.8\" font-family=\"Helvetica,sans-Serif\" font-size=\"14.00\">samples = 33</text>\n",
       "<text text-anchor=\"start\" x=\"12.5\" y=\"-7.8\" font-family=\"Helvetica,sans-Serif\" font-size=\"14.00\">value = 2002.909</text>\n",
       "</g>\n",
       "<!-- 2&#45;&gt;3 -->\n",
       "<g id=\"edge3\" class=\"edge\">\n",
       "<title>2&#45;&gt;3</title>\n",
       "<path fill=\"none\" stroke=\"black\" d=\"M186.54,-88.95C168.52,-78.93 148.82,-67.98 131.09,-58.13\"/>\n",
       "<polygon fill=\"black\" stroke=\"black\" points=\"132.47,-54.89 122.03,-53.09 129.07,-61 132.47,-54.89\"/>\n",
       "</g>\n",
       "<!-- 4 -->\n",
       "<g id=\"node5\" class=\"node\">\n",
       "<title>4</title>\n",
       "<path fill=\"#ffffff\" stroke=\"black\" d=\"M310,-53C310,-53 182,-53 182,-53 176,-53 170,-47 170,-41 170,-41 170,-12 170,-12 170,-6 176,0 182,0 182,0 310,0 310,0 316,0 322,-6 322,-12 322,-12 322,-41 322,-41 322,-47 316,-53 310,-53\"/>\n",
       "<text text-anchor=\"start\" x=\"178\" y=\"-37.8\" font-family=\"Helvetica,sans-Serif\" font-size=\"14.00\">mse = 347239.529</text>\n",
       "<text text-anchor=\"start\" x=\"197.5\" y=\"-22.8\" font-family=\"Helvetica,sans-Serif\" font-size=\"14.00\">samples = 15</text>\n",
       "<text text-anchor=\"start\" x=\"182.5\" y=\"-7.8\" font-family=\"Helvetica,sans-Serif\" font-size=\"14.00\">value = 1430.267</text>\n",
       "</g>\n",
       "<!-- 2&#45;&gt;4 -->\n",
       "<g id=\"edge4\" class=\"edge\">\n",
       "<title>2&#45;&gt;4</title>\n",
       "<path fill=\"none\" stroke=\"black\" d=\"M246,-88.95C246,-80.72 246,-71.85 246,-63.48\"/>\n",
       "<polygon fill=\"black\" stroke=\"black\" points=\"249.5,-63.24 246,-53.24 242.5,-63.24 249.5,-63.24\"/>\n",
       "</g>\n",
       "<!-- 6 -->\n",
       "<g id=\"node7\" class=\"node\">\n",
       "<title>6</title>\n",
       "<path fill=\"#f2c29f\" stroke=\"black\" d=\"M489.5,-53C489.5,-53 352.5,-53 352.5,-53 346.5,-53 340.5,-47 340.5,-41 340.5,-41 340.5,-12 340.5,-12 340.5,-6 346.5,0 352.5,0 352.5,0 489.5,0 489.5,0 495.5,0 501.5,-6 501.5,-12 501.5,-12 501.5,-41 501.5,-41 501.5,-47 495.5,-53 489.5,-53\"/>\n",
       "<text text-anchor=\"start\" x=\"348.5\" y=\"-37.8\" font-family=\"Helvetica,sans-Serif\" font-size=\"14.00\">mse = 1631160.754</text>\n",
       "<text text-anchor=\"start\" x=\"368\" y=\"-22.8\" font-family=\"Helvetica,sans-Serif\" font-size=\"14.00\">samples = 119</text>\n",
       "<text text-anchor=\"start\" x=\"357.5\" y=\"-7.8\" font-family=\"Helvetica,sans-Serif\" font-size=\"14.00\">value = 3579.487</text>\n",
       "</g>\n",
       "<!-- 5&#45;&gt;6 -->\n",
       "<g id=\"edge6\" class=\"edge\">\n",
       "<title>5&#45;&gt;6</title>\n",
       "<path fill=\"none\" stroke=\"black\" d=\"M478.87,-88.95C470.26,-79.8 460.9,-69.87 452.28,-60.71\"/>\n",
       "<polygon fill=\"black\" stroke=\"black\" points=\"454.64,-58.12 445.24,-53.24 449.55,-62.92 454.64,-58.12\"/>\n",
       "</g>\n",
       "<!-- 7 -->\n",
       "<g id=\"node8\" class=\"node\">\n",
       "<title>7</title>\n",
       "<path fill=\"#fcefe7\" stroke=\"black\" d=\"M668.5,-53C668.5,-53 531.5,-53 531.5,-53 525.5,-53 519.5,-47 519.5,-41 519.5,-41 519.5,-12 519.5,-12 519.5,-6 525.5,0 531.5,0 531.5,0 668.5,0 668.5,0 674.5,0 680.5,-6 680.5,-12 680.5,-12 680.5,-41 680.5,-41 680.5,-47 674.5,-53 668.5,-53\"/>\n",
       "<text text-anchor=\"start\" x=\"527.5\" y=\"-37.8\" font-family=\"Helvetica,sans-Serif\" font-size=\"14.00\">mse = 1651604.864</text>\n",
       "<text text-anchor=\"start\" x=\"551.5\" y=\"-22.8\" font-family=\"Helvetica,sans-Serif\" font-size=\"14.00\">samples = 13</text>\n",
       "<text text-anchor=\"start\" x=\"536.5\" y=\"-7.8\" font-family=\"Helvetica,sans-Serif\" font-size=\"14.00\">value = 1973.462</text>\n",
       "</g>\n",
       "<!-- 5&#45;&gt;7 -->\n",
       "<g id=\"edge7\" class=\"edge\">\n",
       "<title>5&#45;&gt;7</title>\n",
       "<path fill=\"none\" stroke=\"black\" d=\"M541.48,-88.95C550.19,-79.8 559.65,-69.87 568.37,-60.71\"/>\n",
       "<polygon fill=\"black\" stroke=\"black\" points=\"571.13,-62.89 575.49,-53.24 566.06,-58.06 571.13,-62.89\"/>\n",
       "</g>\n",
       "<!-- 9 -->\n",
       "<g id=\"node10\" class=\"node\">\n",
       "<title>9</title>\n",
       "<path fill=\"#e5823b\" stroke=\"black\" d=\"M923.5,-157C923.5,-157 786.5,-157 786.5,-157 780.5,-157 774.5,-151 774.5,-145 774.5,-145 774.5,-101 774.5,-101 774.5,-95 780.5,-89 786.5,-89 786.5,-89 923.5,-89 923.5,-89 929.5,-89 935.5,-95 935.5,-101 935.5,-101 935.5,-145 935.5,-145 935.5,-151 929.5,-157 923.5,-157\"/>\n",
       "<text text-anchor=\"start\" x=\"806.5\" y=\"-141.8\" font-family=\"Helvetica,sans-Serif\" font-size=\"14.00\">Ноябрь ≤ 0.5</text>\n",
       "<text text-anchor=\"start\" x=\"782.5\" y=\"-126.8\" font-family=\"Helvetica,sans-Serif\" font-size=\"14.00\">mse = 2123238.015</text>\n",
       "<text text-anchor=\"start\" x=\"802\" y=\"-111.8\" font-family=\"Helvetica,sans-Serif\" font-size=\"14.00\">samples = 232</text>\n",
       "<text text-anchor=\"start\" x=\"791.5\" y=\"-96.8\" font-family=\"Helvetica,sans-Serif\" font-size=\"14.00\">value = 5794.453</text>\n",
       "</g>\n",
       "<!-- 8&#45;&gt;9 -->\n",
       "<g id=\"edge9\" class=\"edge\">\n",
       "<title>8&#45;&gt;9</title>\n",
       "<path fill=\"none\" stroke=\"black\" d=\"M855,-192.88C855,-184.78 855,-175.98 855,-167.47\"/>\n",
       "<polygon fill=\"black\" stroke=\"black\" points=\"858.5,-167.3 855,-157.3 851.5,-167.3 858.5,-167.3\"/>\n",
       "</g>\n",
       "<!-- 12 -->\n",
       "<g id=\"node13\" class=\"node\">\n",
       "<title>12</title>\n",
       "<path fill=\"#f0b78d\" stroke=\"black\" d=\"M1179.5,-157C1179.5,-157 1042.5,-157 1042.5,-157 1036.5,-157 1030.5,-151 1030.5,-145 1030.5,-145 1030.5,-101 1030.5,-101 1030.5,-95 1036.5,-89 1042.5,-89 1042.5,-89 1179.5,-89 1179.5,-89 1185.5,-89 1191.5,-95 1191.5,-101 1191.5,-101 1191.5,-145 1191.5,-145 1191.5,-151 1185.5,-157 1179.5,-157\"/>\n",
       "<text text-anchor=\"start\" x=\"1064\" y=\"-141.8\" font-family=\"Helvetica,sans-Serif\" font-size=\"14.00\">hum ≤ 0.928</text>\n",
       "<text text-anchor=\"start\" x=\"1038.5\" y=\"-126.8\" font-family=\"Helvetica,sans-Serif\" font-size=\"14.00\">mse = 1440781.848</text>\n",
       "<text text-anchor=\"start\" x=\"1062.5\" y=\"-111.8\" font-family=\"Helvetica,sans-Serif\" font-size=\"14.00\">samples = 26</text>\n",
       "<text text-anchor=\"start\" x=\"1047.5\" y=\"-96.8\" font-family=\"Helvetica,sans-Serif\" font-size=\"14.00\">value = 3969.192</text>\n",
       "</g>\n",
       "<!-- 8&#45;&gt;12 -->\n",
       "<g id=\"edge12\" class=\"edge\">\n",
       "<title>8&#45;&gt;12</title>\n",
       "<path fill=\"none\" stroke=\"black\" d=\"M935.65,-193.87C962.77,-183.06 993.2,-170.94 1021,-159.86\"/>\n",
       "<polygon fill=\"black\" stroke=\"black\" points=\"1022.32,-163.1 1030.32,-156.15 1019.73,-156.6 1022.32,-163.1\"/>\n",
       "</g>\n",
       "<!-- 10 -->\n",
       "<g id=\"node11\" class=\"node\">\n",
       "<title>10</title>\n",
       "<path fill=\"#e58139\" stroke=\"black\" d=\"M847.5,-53C847.5,-53 710.5,-53 710.5,-53 704.5,-53 698.5,-47 698.5,-41 698.5,-41 698.5,-12 698.5,-12 698.5,-6 704.5,0 710.5,0 710.5,0 847.5,0 847.5,0 853.5,0 859.5,-6 859.5,-12 859.5,-12 859.5,-41 859.5,-41 859.5,-47 853.5,-53 847.5,-53\"/>\n",
       "<text text-anchor=\"start\" x=\"706.5\" y=\"-37.8\" font-family=\"Helvetica,sans-Serif\" font-size=\"14.00\">mse = 2042167.759</text>\n",
       "<text text-anchor=\"start\" x=\"726\" y=\"-22.8\" font-family=\"Helvetica,sans-Serif\" font-size=\"14.00\">samples = 227</text>\n",
       "<text text-anchor=\"start\" x=\"715.5\" y=\"-7.8\" font-family=\"Helvetica,sans-Serif\" font-size=\"14.00\">value = 5844.947</text>\n",
       "</g>\n",
       "<!-- 9&#45;&gt;10 -->\n",
       "<g id=\"edge10\" class=\"edge\">\n",
       "<title>9&#45;&gt;10</title>\n",
       "<path fill=\"none\" stroke=\"black\" d=\"M828.42,-88.95C821.21,-79.98 813.39,-70.27 806.15,-61.26\"/>\n",
       "<polygon fill=\"black\" stroke=\"black\" points=\"808.69,-58.84 799.7,-53.24 803.24,-63.22 808.69,-58.84\"/>\n",
       "</g>\n",
       "<!-- 11 -->\n",
       "<g id=\"node12\" class=\"node\">\n",
       "<title>11</title>\n",
       "<path fill=\"#f3c4a2\" stroke=\"black\" d=\"M1000,-53C1000,-53 890,-53 890,-53 884,-53 878,-47 878,-41 878,-41 878,-12 878,-12 878,-6 884,0 890,0 890,0 1000,0 1000,0 1006,0 1012,-6 1012,-12 1012,-12 1012,-41 1012,-41 1012,-47 1006,-53 1000,-53\"/>\n",
       "<text text-anchor=\"start\" x=\"886\" y=\"-37.8\" font-family=\"Helvetica,sans-Serif\" font-size=\"14.00\">mse = 432732.4</text>\n",
       "<text text-anchor=\"start\" x=\"901\" y=\"-22.8\" font-family=\"Helvetica,sans-Serif\" font-size=\"14.00\">samples = 5</text>\n",
       "<text text-anchor=\"start\" x=\"890.5\" y=\"-7.8\" font-family=\"Helvetica,sans-Serif\" font-size=\"14.00\">value = 3502.0</text>\n",
       "</g>\n",
       "<!-- 9&#45;&gt;11 -->\n",
       "<g id=\"edge11\" class=\"edge\">\n",
       "<title>9&#45;&gt;11</title>\n",
       "<path fill=\"none\" stroke=\"black\" d=\"M886.48,-88.95C895.19,-79.8 904.65,-69.87 913.37,-60.71\"/>\n",
       "<polygon fill=\"black\" stroke=\"black\" points=\"916.13,-62.89 920.49,-53.24 911.06,-58.06 916.13,-62.89\"/>\n",
       "</g>\n",
       "<!-- 13 -->\n",
       "<g id=\"node14\" class=\"node\">\n",
       "<title>13</title>\n",
       "<path fill=\"#efaf82\" stroke=\"black\" d=\"M1179.5,-53C1179.5,-53 1042.5,-53 1042.5,-53 1036.5,-53 1030.5,-47 1030.5,-41 1030.5,-41 1030.5,-12 1030.5,-12 1030.5,-6 1036.5,0 1042.5,0 1042.5,0 1179.5,0 1179.5,0 1185.5,0 1191.5,-6 1191.5,-12 1191.5,-12 1191.5,-41 1191.5,-41 1191.5,-47 1185.5,-53 1179.5,-53\"/>\n",
       "<text text-anchor=\"start\" x=\"1038.5\" y=\"-37.8\" font-family=\"Helvetica,sans-Serif\" font-size=\"14.00\">mse = 1058070.125</text>\n",
       "<text text-anchor=\"start\" x=\"1062.5\" y=\"-22.8\" font-family=\"Helvetica,sans-Serif\" font-size=\"14.00\">samples = 23</text>\n",
       "<text text-anchor=\"start\" x=\"1047.5\" y=\"-7.8\" font-family=\"Helvetica,sans-Serif\" font-size=\"14.00\">value = 4223.696</text>\n",
       "</g>\n",
       "<!-- 12&#45;&gt;13 -->\n",
       "<g id=\"edge13\" class=\"edge\">\n",
       "<title>12&#45;&gt;13</title>\n",
       "<path fill=\"none\" stroke=\"black\" d=\"M1111,-88.95C1111,-80.72 1111,-71.85 1111,-63.48\"/>\n",
       "<polygon fill=\"black\" stroke=\"black\" points=\"1114.5,-63.24 1111,-53.24 1107.5,-63.24 1114.5,-63.24\"/>\n",
       "</g>\n",
       "<!-- 14 -->\n",
       "<g id=\"node15\" class=\"node\">\n",
       "<title>14</title>\n",
       "<path fill=\"#fceee5\" stroke=\"black\" d=\"M1340.5,-53C1340.5,-53 1221.5,-53 1221.5,-53 1215.5,-53 1209.5,-47 1209.5,-41 1209.5,-41 1209.5,-12 1209.5,-12 1209.5,-6 1215.5,0 1221.5,0 1221.5,0 1340.5,0 1340.5,0 1346.5,0 1352.5,-6 1352.5,-12 1352.5,-12 1352.5,-41 1352.5,-41 1352.5,-47 1346.5,-53 1340.5,-53\"/>\n",
       "<text text-anchor=\"start\" x=\"1217.5\" y=\"-37.8\" font-family=\"Helvetica,sans-Serif\" font-size=\"14.00\">mse = 71168.667</text>\n",
       "<text text-anchor=\"start\" x=\"1237\" y=\"-22.8\" font-family=\"Helvetica,sans-Serif\" font-size=\"14.00\">samples = 3</text>\n",
       "<text text-anchor=\"start\" x=\"1226.5\" y=\"-7.8\" font-family=\"Helvetica,sans-Serif\" font-size=\"14.00\">value = 2018.0</text>\n",
       "</g>\n",
       "<!-- 12&#45;&gt;14 -->\n",
       "<g id=\"edge14\" class=\"edge\">\n",
       "<title>12&#45;&gt;14</title>\n",
       "<path fill=\"none\" stroke=\"black\" d=\"M1170.46,-88.95C1188.48,-78.93 1208.18,-67.98 1225.91,-58.13\"/>\n",
       "<polygon fill=\"black\" stroke=\"black\" points=\"1227.93,-61 1234.97,-53.09 1224.53,-54.89 1227.93,-61\"/>\n",
       "</g>\n",
       "</g>\n",
       "</svg>\n"
      ],
      "text/plain": [
       "<graphviz.sources.Source at 0x7f797ccd97f0>"
      ]
     },
     "execution_count": 13,
     "metadata": {},
     "output_type": "execute_result"
    }
   ],
   "source": [
    "graph = get_graphviz_graph(estimator_for_visualisation)\n",
    "graph"
   ]
  },
  {
   "cell_type": "markdown",
   "metadata": {},
   "source": [
    "Подберите оптимальное значение максимальной глубины дерева. Для этого обучите решающие деревья с выставленным значением соответствующего гиперпараметра и посчитайте точность предсказаний каждого из них на валидационной выборке. Постройте соответствующий график."
   ]
  },
  {
   "cell_type": "code",
   "execution_count": 14,
   "metadata": {},
   "outputs": [],
   "source": [
    "metric_for_depth = []\n",
    "for max_level in [1, 2, 3, 5, 10, 20, 40]:\n",
    "    estimator = DecisionTreeRegressor(max_depth=max_level)\n",
    "    estimator.fit(X_train, y_train)\n",
    "    metric_for_depth.append(mean_squared_error(estimator.predict(X_valid), y_valid))"
   ]
  },
  {
   "cell_type": "code",
   "execution_count": 15,
   "metadata": {},
   "outputs": [
    {
     "data": {
      "image/png": "[encoded data removed]",
      "text/plain": [
       "<Figure size 1080x360 with 1 Axes>"
      ]
     },
     "metadata": {},
     "output_type": "display_data"
    }
   ],
   "source": [
    "with sns.axes_style('darkgrid'):\n",
    "    fig, ax = plt.subplots(figsize=(15, 5))\n",
    "    ax.plot([1, 2, 3, 5, 10, 20, 40], metric_for_depth, color=\"blue\")\n",
    "    ax.set_xlabel('Глубина дерева')\n",
    "    ax.set_ylabel(\"MSE\")\n",
    "    ax.set_title(\"Зависимость MSE от глубины дерева\", fontsize = 19, fontweight = \"bold\")\n",
    "    plt.show()"
   ]
  },
  {
   "cell_type": "markdown",
   "metadata": {},
   "source": [
    "Аналогичным образом подберите минимальное число объектов в листе, зафиксировав при этом подобранное значение максимальной глубины."
   ]
  },
  {
   "cell_type": "code",
   "execution_count": 16,
   "metadata": {},
   "outputs": [],
   "source": [
    "metric_for_leaf = []\n",
    "for min_leaf in [1, 2, 3, 5, 7, 10, 15, 20, 40]:\n",
    "    estimator = DecisionTreeRegressor(min_samples_leaf = min_leaf, max_depth=5)\n",
    "    estimator.fit(X_train, y_train)\n",
    "    metric_for_leaf.append(mean_squared_error(estimator.predict(X_valid), y_valid))"
   ]
  },
  {
   "cell_type": "code",
   "execution_count": 17,
   "metadata": {},
   "outputs": [
    {
     "data": {
      "image/png": "[encoded data removed]",
      "text/plain": [
       "<Figure size 1080x360 with 1 Axes>"
      ]
     },
     "metadata": {},
     "output_type": "display_data"
    }
   ],
   "source": [
    "with sns.axes_style('darkgrid'):\n",
    "    fig2, ax2 = plt.subplots(figsize=(15, 5))\n",
    "    ax2.plot([1, 2, 3, 5, 7, 10, 15, 20, 40], metric_for_leaf, color=\"blue\")\n",
    "    ax2.set_xlabel('Минимальное кол-во элементов в листе')\n",
    "    ax2.set_ylabel(\"MSE\")\n",
    "    ax2.set_title(\"Зависимость MSE от минимального количества листьев\", fontsize = 19, fontweight = \"bold\")\n",
    "    plt.show()"
   ]
  },
  {
   "cell_type": "markdown",
   "metadata": {},
   "source": [
    "Визуализируйте дерево при оптимальных гиперпараметрах и посчитайте его точность на тестовой части выборки."
   ]
  },
  {
   "cell_type": "code",
   "execution_count": 18,
   "metadata": {},
   "outputs": [],
   "source": [
    "def mean_absolute_percentage_error(y_true, y_pred):\n",
    "    return 100 * (np.abs(y_true - y_pred) / y_true).mean()"
   ]
  },
  {
   "cell_type": "code",
   "execution_count": 19,
   "metadata": {},
   "outputs": [],
   "source": [
    "model = DecisionTreeRegressor(max_depth = 5, min_samples_leaf = 20)\n",
    "model.fit(X_train, y_train)\n",
    "test_predict = model.predict(X_test)"
   ]
  },
  {
   "cell_type": "markdown",
   "metadata": {},
   "source": [
    "MSE"
   ]
  },
  {
   "cell_type": "code",
   "execution_count": 20,
   "metadata": {},
   "outputs": [
    {
     "name": "stdout",
     "output_type": "stream",
     "text": [
      "1297.4797169710735\n"
     ]
    }
   ],
   "source": [
    "print(metrics.mean_squared_error(test[target_feature], test_predict) ** 0.5)"
   ]
  },
  {
   "cell_type": "markdown",
   "metadata": {},
   "source": [
    "MAE"
   ]
  },
  {
   "cell_type": "code",
   "execution_count": 21,
   "metadata": {},
   "outputs": [
    {
     "name": "stdout",
     "output_type": "stream",
     "text": [
      "1077.2797164626575\n"
     ]
    }
   ],
   "source": [
    "print(metrics.mean_absolute_error(test[target_feature], test_predict))"
   ]
  },
  {
   "cell_type": "markdown",
   "metadata": {},
   "source": [
    "MAPE"
   ]
  },
  {
   "cell_type": "code",
   "execution_count": 22,
   "metadata": {},
   "outputs": [
    {
     "name": "stdout",
     "output_type": "stream",
     "text": [
      "34.7401846961512\n"
     ]
    }
   ],
   "source": [
    "print(mean_absolute_percentage_error(test[target_feature], test_predict))"
   ]
  },
  {
   "cell_type": "code",
   "execution_count": 23,
   "metadata": {},
   "outputs": [
    {
     "data": {
      "image/svg+xml": [
       "<?xml version=\"1.0\" encoding=\"UTF-8\" standalone=\"no\"?>\n",
       "<!DOCTYPE svg PUBLIC \"-//W3C//DTD SVG 1.1//EN\"\n",
       " \"http://www.w3.org/Graphics/SVG/1.1/DTD/svg11.dtd\">\n",
       "<!-- Generated by graphviz version 2.43.0 (0)\n",
       " -->\n",
       "<!-- Title: Tree Pages: 1 -->\n",
       "<svg width=\"1743pt\" height=\"581pt\"\n",
       " viewBox=\"0.00 0.00 1743.00 581.00\" xmlns=\"http://www.w3.org/2000/svg\" xmlns:xlink=\"http://www.w3.org/1999/xlink\">\n",
       "<g id=\"graph0\" class=\"graph\" transform=\"scale(1 1) rotate(0) translate(4 577)\">\n",
       "<title>Tree</title>\n",
       "<polygon fill=\"white\" stroke=\"transparent\" points=\"-4,4 -4,-577 1739,-577 1739,4 -4,4\"/>\n",
       "<!-- 0 -->\n",
       "<g id=\"node1\" class=\"node\">\n",
       "<title>0</title>\n",
       "<path fill=\"#f0b78e\" stroke=\"black\" d=\"M831,-573C831,-573 694,-573 694,-573 688,-573 682,-567 682,-561 682,-561 682,-517 682,-517 682,-511 688,-505 694,-505 694,-505 831,-505 831,-505 837,-505 843,-511 843,-517 843,-517 843,-561 843,-561 843,-567 837,-573 831,-573\"/>\n",
       "<text text-anchor=\"start\" x=\"713.5\" y=\"-557.8\" font-family=\"Helvetica,sans-Serif\" font-size=\"14.00\">temp ≤ 0.432</text>\n",
       "<text text-anchor=\"start\" x=\"690\" y=\"-542.8\" font-family=\"Helvetica,sans-Serif\" font-size=\"14.00\">mse = 3862539.992</text>\n",
       "<text text-anchor=\"start\" x=\"709.5\" y=\"-527.8\" font-family=\"Helvetica,sans-Serif\" font-size=\"14.00\">samples = 438</text>\n",
       "<text text-anchor=\"start\" x=\"703.5\" y=\"-512.8\" font-family=\"Helvetica,sans-Serif\" font-size=\"14.00\">value = 4535.79</text>\n",
       "</g>\n",
       "<!-- 1 -->\n",
       "<g id=\"node2\" class=\"node\">\n",
       "<title>1</title>\n",
       "<path fill=\"#f8dcc8\" stroke=\"black\" d=\"M567,-469C567,-469 430,-469 430,-469 424,-469 418,-463 418,-457 418,-457 418,-413 418,-413 418,-407 424,-401 430,-401 430,-401 567,-401 567,-401 573,-401 579,-407 579,-413 579,-413 579,-457 579,-457 579,-463 573,-469 567,-469\"/>\n",
       "<text text-anchor=\"start\" x=\"445.5\" y=\"-453.8\" font-family=\"Helvetica,sans-Serif\" font-size=\"14.00\">atemp ≤ 0.261</text>\n",
       "<text text-anchor=\"start\" x=\"426\" y=\"-438.8\" font-family=\"Helvetica,sans-Serif\" font-size=\"14.00\">mse = 1992908.407</text>\n",
       "<text text-anchor=\"start\" x=\"445.5\" y=\"-423.8\" font-family=\"Helvetica,sans-Serif\" font-size=\"14.00\">samples = 180</text>\n",
       "<text text-anchor=\"start\" x=\"435\" y=\"-408.8\" font-family=\"Helvetica,sans-Serif\" font-size=\"14.00\">value = 2995.356</text>\n",
       "</g>\n",
       "<!-- 0&#45;&gt;1 -->\n",
       "<g id=\"edge1\" class=\"edge\">\n",
       "<title>0&#45;&gt;1</title>\n",
       "<path fill=\"none\" stroke=\"black\" d=\"M681.86,-506.84C652.44,-495.48 618.99,-482.55 588.79,-470.88\"/>\n",
       "<polygon fill=\"black\" stroke=\"black\" points=\"589.69,-467.48 579.1,-467.14 587.17,-474.01 589.69,-467.48\"/>\n",
       "<text text-anchor=\"middle\" x=\"589.22\" y=\"-486.3\" font-family=\"Helvetica,sans-Serif\" font-size=\"14.00\">True</text>\n",
       "</g>\n",
       "<!-- 14 -->\n",
       "<g id=\"node15\" class=\"node\">\n",
       "<title>14</title>\n",
       "<path fill=\"#eb9d65\" stroke=\"black\" d=\"M1098,-469C1098,-469 961,-469 961,-469 955,-469 949,-463 949,-457 949,-457 949,-413 949,-413 949,-407 955,-401 961,-401 961,-401 1098,-401 1098,-401 1104,-401 1110,-407 1110,-413 1110,-413 1110,-457 1110,-457 1110,-463 1104,-469 1098,-469\"/>\n",
       "<text text-anchor=\"start\" x=\"982.5\" y=\"-453.8\" font-family=\"Helvetica,sans-Serif\" font-size=\"14.00\">hum ≤ 0.811</text>\n",
       "<text text-anchor=\"start\" x=\"957\" y=\"-438.8\" font-family=\"Helvetica,sans-Serif\" font-size=\"14.00\">mse = 2356369.211</text>\n",
       "<text text-anchor=\"start\" x=\"976.5\" y=\"-423.8\" font-family=\"Helvetica,sans-Serif\" font-size=\"14.00\">samples = 258</text>\n",
       "<text text-anchor=\"start\" x=\"966\" y=\"-408.8\" font-family=\"Helvetica,sans-Serif\" font-size=\"14.00\">value = 5610.512</text>\n",
       "</g>\n",
       "<!-- 0&#45;&gt;14 -->\n",
       "<g id=\"edge14\" class=\"edge\">\n",
       "<title>0&#45;&gt;14</title>\n",
       "<path fill=\"none\" stroke=\"black\" d=\"M843.33,-507.12C873.66,-495.54 908.3,-482.3 939.41,-470.42\"/>\n",
       "<polygon fill=\"black\" stroke=\"black\" points=\"940.85,-473.61 948.94,-466.78 938.35,-467.07 940.85,-473.61\"/>\n",
       "<text text-anchor=\"middle\" x=\"938.74\" y=\"-485.9\" font-family=\"Helvetica,sans-Serif\" font-size=\"14.00\">False</text>\n",
       "</g>\n",
       "<!-- 2 -->\n",
       "<g id=\"node3\" class=\"node\">\n",
       "<title>2</title>\n",
       "<path fill=\"#fef8f5\" stroke=\"black\" d=\"M301.5,-365C301.5,-365 173.5,-365 173.5,-365 167.5,-365 161.5,-359 161.5,-353 161.5,-353 161.5,-309 161.5,-309 161.5,-303 167.5,-297 173.5,-297 173.5,-297 301.5,-297 301.5,-297 307.5,-297 313.5,-303 313.5,-309 313.5,-309 313.5,-353 313.5,-353 313.5,-359 307.5,-365 301.5,-365\"/>\n",
       "<text text-anchor=\"start\" x=\"190.5\" y=\"-349.8\" font-family=\"Helvetica,sans-Serif\" font-size=\"14.00\">hum ≤ 0.511</text>\n",
       "<text text-anchor=\"start\" x=\"169.5\" y=\"-334.8\" font-family=\"Helvetica,sans-Serif\" font-size=\"14.00\">mse = 481267.165</text>\n",
       "<text text-anchor=\"start\" x=\"189\" y=\"-319.8\" font-family=\"Helvetica,sans-Serif\" font-size=\"14.00\">samples = 48</text>\n",
       "<text text-anchor=\"start\" x=\"174\" y=\"-304.8\" font-family=\"Helvetica,sans-Serif\" font-size=\"14.00\">value = 1823.958</text>\n",
       "</g>\n",
       "<!-- 1&#45;&gt;2 -->\n",
       "<g id=\"edge2\" class=\"edge\">\n",
       "<title>1&#45;&gt;2</title>\n",
       "<path fill=\"none\" stroke=\"black\" d=\"M417.71,-402.43C387.85,-390.76 353.91,-377.5 323.6,-365.65\"/>\n",
       "<polygon fill=\"black\" stroke=\"black\" points=\"324.49,-362.24 313.9,-361.86 321.94,-368.76 324.49,-362.24\"/>\n",
       "</g>\n",
       "<!-- 5 -->\n",
       "<g id=\"node6\" class=\"node\">\n",
       "<title>5</title>\n",
       "<path fill=\"#f6d2b8\" stroke=\"black\" d=\"M567,-365C567,-365 430,-365 430,-365 424,-365 418,-359 418,-353 418,-353 418,-309 418,-309 418,-303 424,-297 430,-297 430,-297 567,-297 567,-297 573,-297 579,-303 579,-309 579,-309 579,-353 579,-353 579,-359 573,-365 567,-365\"/>\n",
       "<text text-anchor=\"start\" x=\"459\" y=\"-349.8\" font-family=\"Helvetica,sans-Serif\" font-size=\"14.00\">зима ≤ 0.5</text>\n",
       "<text text-anchor=\"start\" x=\"426\" y=\"-334.8\" font-family=\"Helvetica,sans-Serif\" font-size=\"14.00\">mse = 1862180.535</text>\n",
       "<text text-anchor=\"start\" x=\"445.5\" y=\"-319.8\" font-family=\"Helvetica,sans-Serif\" font-size=\"14.00\">samples = 132</text>\n",
       "<text text-anchor=\"start\" x=\"435\" y=\"-304.8\" font-family=\"Helvetica,sans-Serif\" font-size=\"14.00\">value = 3421.318</text>\n",
       "</g>\n",
       "<!-- 1&#45;&gt;5 -->\n",
       "<g id=\"edge5\" class=\"edge\">\n",
       "<title>1&#45;&gt;5</title>\n",
       "<path fill=\"none\" stroke=\"black\" d=\"M498.5,-400.88C498.5,-392.78 498.5,-383.98 498.5,-375.47\"/>\n",
       "<polygon fill=\"black\" stroke=\"black\" points=\"502,-375.3 498.5,-365.3 495,-375.3 502,-375.3\"/>\n",
       "</g>\n",
       "<!-- 3 -->\n",
       "<g id=\"node4\" class=\"node\">\n",
       "<title>3</title>\n",
       "<path fill=\"#fcf3eb\" stroke=\"black\" d=\"M131,-253.5C131,-253.5 12,-253.5 12,-253.5 6,-253.5 0,-247.5 0,-241.5 0,-241.5 0,-212.5 0,-212.5 0,-206.5 6,-200.5 12,-200.5 12,-200.5 131,-200.5 131,-200.5 137,-200.5 143,-206.5 143,-212.5 143,-212.5 143,-241.5 143,-241.5 143,-247.5 137,-253.5 131,-253.5\"/>\n",
       "<text text-anchor=\"start\" x=\"8\" y=\"-238.3\" font-family=\"Helvetica,sans-Serif\" font-size=\"14.00\">mse = 450656.65</text>\n",
       "<text text-anchor=\"start\" x=\"23\" y=\"-223.3\" font-family=\"Helvetica,sans-Serif\" font-size=\"14.00\">samples = 25</text>\n",
       "<text text-anchor=\"start\" x=\"12.5\" y=\"-208.3\" font-family=\"Helvetica,sans-Serif\" font-size=\"14.00\">value = 2072.48</text>\n",
       "</g>\n",
       "<!-- 2&#45;&gt;3 -->\n",
       "<g id=\"edge3\" class=\"edge\">\n",
       "<title>2&#45;&gt;3</title>\n",
       "<path fill=\"none\" stroke=\"black\" d=\"M183.6,-296.88C163.74,-284.68 141.32,-270.9 121.79,-258.9\"/>\n",
       "<polygon fill=\"black\" stroke=\"black\" points=\"123.38,-255.77 113.03,-253.52 119.72,-261.74 123.38,-255.77\"/>\n",
       "</g>\n",
       "<!-- 4 -->\n",
       "<g id=\"node5\" class=\"node\">\n",
       "<title>4</title>\n",
       "<path fill=\"#ffffff\" stroke=\"black\" d=\"M301.5,-253.5C301.5,-253.5 173.5,-253.5 173.5,-253.5 167.5,-253.5 161.5,-247.5 161.5,-241.5 161.5,-241.5 161.5,-212.5 161.5,-212.5 161.5,-206.5 167.5,-200.5 173.5,-200.5 173.5,-200.5 301.5,-200.5 301.5,-200.5 307.5,-200.5 313.5,-206.5 313.5,-212.5 313.5,-212.5 313.5,-241.5 313.5,-241.5 313.5,-247.5 307.5,-253.5 301.5,-253.5\"/>\n",
       "<text text-anchor=\"start\" x=\"169.5\" y=\"-238.3\" font-family=\"Helvetica,sans-Serif\" font-size=\"14.00\">mse = 374434.318</text>\n",
       "<text text-anchor=\"start\" x=\"189\" y=\"-223.3\" font-family=\"Helvetica,sans-Serif\" font-size=\"14.00\">samples = 23</text>\n",
       "<text text-anchor=\"start\" x=\"174\" y=\"-208.3\" font-family=\"Helvetica,sans-Serif\" font-size=\"14.00\">value = 1553.826</text>\n",
       "</g>\n",
       "<!-- 2&#45;&gt;4 -->\n",
       "<g id=\"edge4\" class=\"edge\">\n",
       "<title>2&#45;&gt;4</title>\n",
       "<path fill=\"none\" stroke=\"black\" d=\"M237.5,-296.88C237.5,-286.33 237.5,-274.6 237.5,-263.85\"/>\n",
       "<polygon fill=\"black\" stroke=\"black\" points=\"241,-263.52 237.5,-253.52 234,-263.52 241,-263.52\"/>\n",
       "</g>\n",
       "<!-- 6 -->\n",
       "<g id=\"node7\" class=\"node\">\n",
       "<title>6</title>\n",
       "<path fill=\"#f8dbc6\" stroke=\"black\" d=\"M471.5,-261C471.5,-261 343.5,-261 343.5,-261 337.5,-261 331.5,-255 331.5,-249 331.5,-249 331.5,-205 331.5,-205 331.5,-199 337.5,-193 343.5,-193 343.5,-193 471.5,-193 471.5,-193 477.5,-193 483.5,-199 483.5,-205 483.5,-205 483.5,-249 483.5,-249 483.5,-255 477.5,-261 471.5,-261\"/>\n",
       "<text text-anchor=\"start\" x=\"360.5\" y=\"-245.8\" font-family=\"Helvetica,sans-Serif\" font-size=\"14.00\">hum ≤ 0.679</text>\n",
       "<text text-anchor=\"start\" x=\"339.5\" y=\"-230.8\" font-family=\"Helvetica,sans-Serif\" font-size=\"14.00\">mse = 1802423.19</text>\n",
       "<text text-anchor=\"start\" x=\"359\" y=\"-215.8\" font-family=\"Helvetica,sans-Serif\" font-size=\"14.00\">samples = 79</text>\n",
       "<text text-anchor=\"start\" x=\"344\" y=\"-200.8\" font-family=\"Helvetica,sans-Serif\" font-size=\"14.00\">value = 3059.886</text>\n",
       "</g>\n",
       "<!-- 5&#45;&gt;6 -->\n",
       "<g id=\"edge6\" class=\"edge\">\n",
       "<title>5&#45;&gt;6</title>\n",
       "<path fill=\"none\" stroke=\"black\" d=\"M468.95,-296.88C461.01,-287.98 452.32,-278.24 444.04,-268.96\"/>\n",
       "<polygon fill=\"black\" stroke=\"black\" points=\"446.48,-266.43 437.21,-261.3 441.25,-271.09 446.48,-266.43\"/>\n",
       "</g>\n",
       "<!-- 11 -->\n",
       "<g id=\"node12\" class=\"node\">\n",
       "<title>11</title>\n",
       "<path fill=\"#f3c5a4\" stroke=\"black\" d=\"M653,-261C653,-261 516,-261 516,-261 510,-261 504,-255 504,-249 504,-249 504,-205 504,-205 504,-199 510,-193 516,-193 516,-193 653,-193 653,-193 659,-193 665,-199 665,-205 665,-205 665,-249 665,-249 665,-255 659,-261 653,-261\"/>\n",
       "<text text-anchor=\"start\" x=\"537.5\" y=\"-245.8\" font-family=\"Helvetica,sans-Serif\" font-size=\"14.00\">hum ≤ 0.669</text>\n",
       "<text text-anchor=\"start\" x=\"512\" y=\"-230.8\" font-family=\"Helvetica,sans-Serif\" font-size=\"14.00\">mse = 1466296.355</text>\n",
       "<text text-anchor=\"start\" x=\"536\" y=\"-215.8\" font-family=\"Helvetica,sans-Serif\" font-size=\"14.00\">samples = 53</text>\n",
       "<text text-anchor=\"start\" x=\"521\" y=\"-200.8\" font-family=\"Helvetica,sans-Serif\" font-size=\"14.00\">value = 3960.057</text>\n",
       "</g>\n",
       "<!-- 5&#45;&gt;11 -->\n",
       "<g id=\"edge11\" class=\"edge\">\n",
       "<title>5&#45;&gt;11</title>\n",
       "<path fill=\"none\" stroke=\"black\" d=\"M526.42,-296.88C533.93,-287.98 542.14,-278.24 549.97,-268.96\"/>\n",
       "<polygon fill=\"black\" stroke=\"black\" points=\"552.65,-271.2 556.42,-261.3 547.3,-266.69 552.65,-271.2\"/>\n",
       "</g>\n",
       "<!-- 7 -->\n",
       "<g id=\"node8\" class=\"node\">\n",
       "<title>7</title>\n",
       "<path fill=\"#f6d2b8\" stroke=\"black\" d=\"M294.5,-157C294.5,-157 166.5,-157 166.5,-157 160.5,-157 154.5,-151 154.5,-145 154.5,-145 154.5,-101 154.5,-101 154.5,-95 160.5,-89 166.5,-89 166.5,-89 294.5,-89 294.5,-89 300.5,-89 306.5,-95 306.5,-101 306.5,-101 306.5,-145 306.5,-145 306.5,-151 300.5,-157 294.5,-157\"/>\n",
       "<text text-anchor=\"start\" x=\"177.5\" y=\"-141.8\" font-family=\"Helvetica,sans-Serif\" font-size=\"14.00\">atemp ≤ 0.326</text>\n",
       "<text text-anchor=\"start\" x=\"162.5\" y=\"-126.8\" font-family=\"Helvetica,sans-Serif\" font-size=\"14.00\">mse = 1661045.72</text>\n",
       "<text text-anchor=\"start\" x=\"182\" y=\"-111.8\" font-family=\"Helvetica,sans-Serif\" font-size=\"14.00\">samples = 52</text>\n",
       "<text text-anchor=\"start\" x=\"167\" y=\"-96.8\" font-family=\"Helvetica,sans-Serif\" font-size=\"14.00\">value = 3430.173</text>\n",
       "</g>\n",
       "<!-- 6&#45;&gt;7 -->\n",
       "<g id=\"edge7\" class=\"edge\">\n",
       "<title>6&#45;&gt;7</title>\n",
       "<path fill=\"none\" stroke=\"black\" d=\"M350.03,-192.88C333.1,-183.12 314.43,-172.37 296.98,-162.31\"/>\n",
       "<polygon fill=\"black\" stroke=\"black\" points=\"298.39,-159.09 287.98,-157.12 294.9,-165.15 298.39,-159.09\"/>\n",
       "</g>\n",
       "<!-- 10 -->\n",
       "<g id=\"node11\" class=\"node\">\n",
       "<title>10</title>\n",
       "<path fill=\"#fbece1\" stroke=\"black\" d=\"M474,-149.5C474,-149.5 337,-149.5 337,-149.5 331,-149.5 325,-143.5 325,-137.5 325,-137.5 325,-108.5 325,-108.5 325,-102.5 331,-96.5 337,-96.5 337,-96.5 474,-96.5 474,-96.5 480,-96.5 486,-102.5 486,-108.5 486,-108.5 486,-137.5 486,-137.5 486,-143.5 480,-149.5 474,-149.5\"/>\n",
       "<text text-anchor=\"start\" x=\"333\" y=\"-134.3\" font-family=\"Helvetica,sans-Serif\" font-size=\"14.00\">mse = 1302061.007</text>\n",
       "<text text-anchor=\"start\" x=\"357\" y=\"-119.3\" font-family=\"Helvetica,sans-Serif\" font-size=\"14.00\">samples = 27</text>\n",
       "<text text-anchor=\"start\" x=\"342\" y=\"-104.3\" font-family=\"Helvetica,sans-Serif\" font-size=\"14.00\">value = 2346.741</text>\n",
       "</g>\n",
       "<!-- 6&#45;&gt;10 -->\n",
       "<g id=\"edge10\" class=\"edge\">\n",
       "<title>6&#45;&gt;10</title>\n",
       "<path fill=\"none\" stroke=\"black\" d=\"M406.85,-192.88C406.64,-182.22 406.41,-170.35 406.2,-159.52\"/>\n",
       "<polygon fill=\"black\" stroke=\"black\" points=\"409.7,-159.45 406,-149.52 402.7,-159.59 409.7,-159.45\"/>\n",
       "</g>\n",
       "<!-- 8 -->\n",
       "<g id=\"node9\" class=\"node\">\n",
       "<title>8</title>\n",
       "<path fill=\"#f9e1d0\" stroke=\"black\" d=\"M210,-53C210,-53 73,-53 73,-53 67,-53 61,-47 61,-41 61,-41 61,-12 61,-12 61,-6 67,0 73,0 73,0 210,0 210,0 216,0 222,-6 222,-12 222,-12 222,-41 222,-41 222,-47 216,-53 210,-53\"/>\n",
       "<text text-anchor=\"start\" x=\"69\" y=\"-37.8\" font-family=\"Helvetica,sans-Serif\" font-size=\"14.00\">mse = 1186563.154</text>\n",
       "<text text-anchor=\"start\" x=\"93\" y=\"-22.8\" font-family=\"Helvetica,sans-Serif\" font-size=\"14.00\">samples = 26</text>\n",
       "<text text-anchor=\"start\" x=\"87\" y=\"-7.8\" font-family=\"Helvetica,sans-Serif\" font-size=\"14.00\">value = 2802.0</text>\n",
       "</g>\n",
       "<!-- 7&#45;&gt;8 -->\n",
       "<g id=\"edge8\" class=\"edge\">\n",
       "<title>7&#45;&gt;8</title>\n",
       "<path fill=\"none\" stroke=\"black\" d=\"M199.37,-88.95C190.76,-79.8 181.4,-69.87 172.78,-60.71\"/>\n",
       "<polygon fill=\"black\" stroke=\"black\" points=\"175.14,-58.12 165.74,-53.24 170.05,-62.92 175.14,-58.12\"/>\n",
       "</g>\n",
       "<!-- 9 -->\n",
       "<g id=\"node10\" class=\"node\">\n",
       "<title>9</title>\n",
       "<path fill=\"#f3c3a0\" stroke=\"black\" d=\"M389,-53C389,-53 252,-53 252,-53 246,-53 240,-47 240,-41 240,-41 240,-12 240,-12 240,-6 246,0 252,0 252,0 389,0 389,0 395,0 401,-6 401,-12 401,-12 401,-41 401,-41 401,-47 395,-53 389,-53\"/>\n",
       "<text text-anchor=\"start\" x=\"248\" y=\"-37.8\" font-family=\"Helvetica,sans-Serif\" font-size=\"14.00\">mse = 1346325.457</text>\n",
       "<text text-anchor=\"start\" x=\"272\" y=\"-22.8\" font-family=\"Helvetica,sans-Serif\" font-size=\"14.00\">samples = 26</text>\n",
       "<text text-anchor=\"start\" x=\"257\" y=\"-7.8\" font-family=\"Helvetica,sans-Serif\" font-size=\"14.00\">value = 4058.346</text>\n",
       "</g>\n",
       "<!-- 7&#45;&gt;9 -->\n",
       "<g id=\"edge9\" class=\"edge\">\n",
       "<title>7&#45;&gt;9</title>\n",
       "<path fill=\"none\" stroke=\"black\" d=\"M261.98,-88.95C270.69,-79.8 280.15,-69.87 288.87,-60.71\"/>\n",
       "<polygon fill=\"black\" stroke=\"black\" points=\"291.63,-62.89 295.99,-53.24 286.56,-58.06 291.63,-62.89\"/>\n",
       "</g>\n",
       "<!-- 12 -->\n",
       "<g id=\"node13\" class=\"node\">\n",
       "<title>12</title>\n",
       "<path fill=\"#f2bf9a\" stroke=\"black\" d=\"M653,-149.5C653,-149.5 516,-149.5 516,-149.5 510,-149.5 504,-143.5 504,-137.5 504,-137.5 504,-108.5 504,-108.5 504,-102.5 510,-96.5 516,-96.5 516,-96.5 653,-96.5 653,-96.5 659,-96.5 665,-102.5 665,-108.5 665,-108.5 665,-137.5 665,-137.5 665,-143.5 659,-149.5 653,-149.5\"/>\n",
       "<text text-anchor=\"start\" x=\"512\" y=\"-134.3\" font-family=\"Helvetica,sans-Serif\" font-size=\"14.00\">mse = 1203073.184</text>\n",
       "<text text-anchor=\"start\" x=\"536\" y=\"-119.3\" font-family=\"Helvetica,sans-Serif\" font-size=\"14.00\">samples = 32</text>\n",
       "<text text-anchor=\"start\" x=\"521\" y=\"-104.3\" font-family=\"Helvetica,sans-Serif\" font-size=\"14.00\">value = 4226.438</text>\n",
       "</g>\n",
       "<!-- 11&#45;&gt;12 -->\n",
       "<g id=\"edge12\" class=\"edge\">\n",
       "<title>11&#45;&gt;12</title>\n",
       "<path fill=\"none\" stroke=\"black\" d=\"M584.5,-192.88C584.5,-182.33 584.5,-170.6 584.5,-159.85\"/>\n",
       "<polygon fill=\"black\" stroke=\"black\" points=\"588,-159.52 584.5,-149.52 581,-159.52 588,-159.52\"/>\n",
       "</g>\n",
       "<!-- 13 -->\n",
       "<g id=\"node14\" class=\"node\">\n",
       "<title>13</title>\n",
       "<path fill=\"#f5cfb3\" stroke=\"black\" d=\"M832,-149.5C832,-149.5 695,-149.5 695,-149.5 689,-149.5 683,-143.5 683,-137.5 683,-137.5 683,-108.5 683,-108.5 683,-102.5 689,-96.5 695,-96.5 695,-96.5 832,-96.5 832,-96.5 838,-96.5 844,-102.5 844,-108.5 844,-108.5 844,-137.5 844,-137.5 844,-143.5 838,-149.5 832,-149.5\"/>\n",
       "<text text-anchor=\"start\" x=\"691\" y=\"-134.3\" font-family=\"Helvetica,sans-Serif\" font-size=\"14.00\">mse = 1594504.694</text>\n",
       "<text text-anchor=\"start\" x=\"715\" y=\"-119.3\" font-family=\"Helvetica,sans-Serif\" font-size=\"14.00\">samples = 21</text>\n",
       "<text text-anchor=\"start\" x=\"700\" y=\"-104.3\" font-family=\"Helvetica,sans-Serif\" font-size=\"14.00\">value = 3554.143</text>\n",
       "</g>\n",
       "<!-- 11&#45;&gt;13 -->\n",
       "<g id=\"edge13\" class=\"edge\">\n",
       "<title>11&#45;&gt;13</title>\n",
       "<path fill=\"none\" stroke=\"black\" d=\"M642.62,-192.88C664.23,-180.57 688.65,-166.65 709.84,-154.57\"/>\n",
       "<polygon fill=\"black\" stroke=\"black\" points=\"711.76,-157.51 718.72,-149.52 708.29,-151.43 711.76,-157.51\"/>\n",
       "</g>\n",
       "<!-- 15 -->\n",
       "<g id=\"node16\" class=\"node\">\n",
       "<title>15</title>\n",
       "<path fill=\"#ea995f\" stroke=\"black\" d=\"M1098,-365C1098,-365 961,-365 961,-365 955,-365 949,-359 949,-353 949,-353 949,-309 949,-309 949,-303 955,-297 961,-297 961,-297 1098,-297 1098,-297 1104,-297 1110,-303 1110,-309 1110,-309 1110,-353 1110,-353 1110,-359 1104,-365 1098,-365\"/>\n",
       "<text text-anchor=\"start\" x=\"961\" y=\"-349.8\" font-family=\"Helvetica,sans-Serif\" font-size=\"14.00\">windspeed ≤ 0.154</text>\n",
       "<text text-anchor=\"start\" x=\"957\" y=\"-334.8\" font-family=\"Helvetica,sans-Serif\" font-size=\"14.00\">mse = 2123238.015</text>\n",
       "<text text-anchor=\"start\" x=\"976.5\" y=\"-319.8\" font-family=\"Helvetica,sans-Serif\" font-size=\"14.00\">samples = 232</text>\n",
       "<text text-anchor=\"start\" x=\"966\" y=\"-304.8\" font-family=\"Helvetica,sans-Serif\" font-size=\"14.00\">value = 5794.453</text>\n",
       "</g>\n",
       "<!-- 14&#45;&gt;15 -->\n",
       "<g id=\"edge15\" class=\"edge\">\n",
       "<title>14&#45;&gt;15</title>\n",
       "<path fill=\"none\" stroke=\"black\" d=\"M1029.5,-400.88C1029.5,-392.78 1029.5,-383.98 1029.5,-375.47\"/>\n",
       "<polygon fill=\"black\" stroke=\"black\" points=\"1033,-375.3 1029.5,-365.3 1026,-375.3 1033,-375.3\"/>\n",
       "</g>\n",
       "<!-- 28 -->\n",
       "<g id=\"node29\" class=\"node\">\n",
       "<title>28</title>\n",
       "<path fill=\"#f3c5a4\" stroke=\"black\" d=\"M1277,-357.5C1277,-357.5 1140,-357.5 1140,-357.5 1134,-357.5 1128,-351.5 1128,-345.5 1128,-345.5 1128,-316.5 1128,-316.5 1128,-310.5 1134,-304.5 1140,-304.5 1140,-304.5 1277,-304.5 1277,-304.5 1283,-304.5 1289,-310.5 1289,-316.5 1289,-316.5 1289,-345.5 1289,-345.5 1289,-351.5 1283,-357.5 1277,-357.5\"/>\n",
       "<text text-anchor=\"start\" x=\"1136\" y=\"-342.3\" font-family=\"Helvetica,sans-Serif\" font-size=\"14.00\">mse = 1440781.848</text>\n",
       "<text text-anchor=\"start\" x=\"1160\" y=\"-327.3\" font-family=\"Helvetica,sans-Serif\" font-size=\"14.00\">samples = 26</text>\n",
       "<text text-anchor=\"start\" x=\"1145\" y=\"-312.3\" font-family=\"Helvetica,sans-Serif\" font-size=\"14.00\">value = 3969.192</text>\n",
       "</g>\n",
       "<!-- 14&#45;&gt;28 -->\n",
       "<g id=\"edge28\" class=\"edge\">\n",
       "<title>14&#45;&gt;28</title>\n",
       "<path fill=\"none\" stroke=\"black\" d=\"M1087.62,-400.88C1109.23,-388.57 1133.65,-374.65 1154.84,-362.57\"/>\n",
       "<polygon fill=\"black\" stroke=\"black\" points=\"1156.76,-365.51 1163.72,-357.52 1153.29,-359.43 1156.76,-365.51\"/>\n",
       "</g>\n",
       "<!-- 16 -->\n",
       "<g id=\"node17\" class=\"node\">\n",
       "<title>16</title>\n",
       "<path fill=\"#e88f4f\" stroke=\"black\" d=\"M1098,-261C1098,-261 961,-261 961,-261 955,-261 949,-255 949,-249 949,-249 949,-205 949,-205 949,-199 955,-193 961,-193 961,-193 1098,-193 1098,-193 1104,-193 1110,-199 1110,-205 1110,-205 1110,-249 1110,-249 1110,-255 1104,-261 1098,-261\"/>\n",
       "<text text-anchor=\"start\" x=\"985\" y=\"-245.8\" font-family=\"Helvetica,sans-Serif\" font-size=\"14.00\">temp ≤ 0.72</text>\n",
       "<text text-anchor=\"start\" x=\"957\" y=\"-230.8\" font-family=\"Helvetica,sans-Serif\" font-size=\"14.00\">mse = 1845862.789</text>\n",
       "<text text-anchor=\"start\" x=\"981\" y=\"-215.8\" font-family=\"Helvetica,sans-Serif\" font-size=\"14.00\">samples = 91</text>\n",
       "<text text-anchor=\"start\" x=\"966\" y=\"-200.8\" font-family=\"Helvetica,sans-Serif\" font-size=\"14.00\">value = 6205.319</text>\n",
       "</g>\n",
       "<!-- 15&#45;&gt;16 -->\n",
       "<g id=\"edge16\" class=\"edge\">\n",
       "<title>15&#45;&gt;16</title>\n",
       "<path fill=\"none\" stroke=\"black\" d=\"M1029.5,-296.88C1029.5,-288.78 1029.5,-279.98 1029.5,-271.47\"/>\n",
       "<polygon fill=\"black\" stroke=\"black\" points=\"1033,-271.3 1029.5,-261.3 1026,-271.3 1033,-271.3\"/>\n",
       "</g>\n",
       "<!-- 21 -->\n",
       "<g id=\"node22\" class=\"node\">\n",
       "<title>21</title>\n",
       "<path fill=\"#eb9f69\" stroke=\"black\" d=\"M1363,-261C1363,-261 1226,-261 1226,-261 1220,-261 1214,-255 1214,-249 1214,-249 1214,-205 1214,-205 1214,-199 1220,-193 1226,-193 1226,-193 1363,-193 1363,-193 1369,-193 1375,-199 1375,-205 1375,-205 1375,-249 1375,-249 1375,-255 1369,-261 1363,-261\"/>\n",
       "<text text-anchor=\"start\" x=\"1247.5\" y=\"-245.8\" font-family=\"Helvetica,sans-Serif\" font-size=\"14.00\">hum ≤ 0.647</text>\n",
       "<text text-anchor=\"start\" x=\"1222\" y=\"-230.8\" font-family=\"Helvetica,sans-Serif\" font-size=\"14.00\">mse = 2122989.778</text>\n",
       "<text text-anchor=\"start\" x=\"1241.5\" y=\"-215.8\" font-family=\"Helvetica,sans-Serif\" font-size=\"14.00\">samples = 141</text>\n",
       "<text text-anchor=\"start\" x=\"1231\" y=\"-200.8\" font-family=\"Helvetica,sans-Serif\" font-size=\"14.00\">value = 5529.284</text>\n",
       "</g>\n",
       "<!-- 15&#45;&gt;21 -->\n",
       "<g id=\"edge21\" class=\"edge\">\n",
       "<title>15&#45;&gt;21</title>\n",
       "<path fill=\"none\" stroke=\"black\" d=\"M1110.09,-298.98C1139.9,-287.51 1173.87,-274.43 1204.46,-262.66\"/>\n",
       "<polygon fill=\"black\" stroke=\"black\" points=\"1205.76,-265.91 1213.84,-259.05 1203.25,-259.37 1205.76,-265.91\"/>\n",
       "</g>\n",
       "<!-- 17 -->\n",
       "<g id=\"node18\" class=\"node\">\n",
       "<title>17</title>\n",
       "<path fill=\"#e78946\" stroke=\"black\" d=\"M1011,-157C1011,-157 874,-157 874,-157 868,-157 862,-151 862,-145 862,-145 862,-101 862,-101 862,-95 868,-89 874,-89 874,-89 1011,-89 1011,-89 1017,-89 1023,-95 1023,-101 1023,-101 1023,-145 1023,-145 1023,-151 1017,-157 1011,-157\"/>\n",
       "<text text-anchor=\"start\" x=\"904.5\" y=\"-141.8\" font-family=\"Helvetica,sans-Serif\" font-size=\"14.00\">hum ≤ 0.7</text>\n",
       "<text text-anchor=\"start\" x=\"870\" y=\"-126.8\" font-family=\"Helvetica,sans-Serif\" font-size=\"14.00\">mse = 1692666.025</text>\n",
       "<text text-anchor=\"start\" x=\"894\" y=\"-111.8\" font-family=\"Helvetica,sans-Serif\" font-size=\"14.00\">samples = 64</text>\n",
       "<text text-anchor=\"start\" x=\"879\" y=\"-96.8\" font-family=\"Helvetica,sans-Serif\" font-size=\"14.00\">value = 6453.422</text>\n",
       "</g>\n",
       "<!-- 16&#45;&gt;17 -->\n",
       "<g id=\"edge17\" class=\"edge\">\n",
       "<title>16&#45;&gt;17</title>\n",
       "<path fill=\"none\" stroke=\"black\" d=\"M1001.25,-192.88C993.66,-183.98 985.35,-174.24 977.43,-164.96\"/>\n",
       "<polygon fill=\"black\" stroke=\"black\" points=\"980.05,-162.64 970.9,-157.3 974.73,-167.18 980.05,-162.64\"/>\n",
       "</g>\n",
       "<!-- 20 -->\n",
       "<g id=\"node21\" class=\"node\">\n",
       "<title>20</title>\n",
       "<path fill=\"#eb9d65\" stroke=\"black\" d=\"M1190,-149.5C1190,-149.5 1053,-149.5 1053,-149.5 1047,-149.5 1041,-143.5 1041,-137.5 1041,-137.5 1041,-108.5 1041,-108.5 1041,-102.5 1047,-96.5 1053,-96.5 1053,-96.5 1190,-96.5 1190,-96.5 1196,-96.5 1202,-102.5 1202,-108.5 1202,-108.5 1202,-137.5 1202,-137.5 1202,-143.5 1196,-149.5 1190,-149.5\"/>\n",
       "<text text-anchor=\"start\" x=\"1049\" y=\"-134.3\" font-family=\"Helvetica,sans-Serif\" font-size=\"14.00\">mse = 1717229.802</text>\n",
       "<text text-anchor=\"start\" x=\"1073\" y=\"-119.3\" font-family=\"Helvetica,sans-Serif\" font-size=\"14.00\">samples = 27</text>\n",
       "<text text-anchor=\"start\" x=\"1058\" y=\"-104.3\" font-family=\"Helvetica,sans-Serif\" font-size=\"14.00\">value = 5617.222</text>\n",
       "</g>\n",
       "<!-- 16&#45;&gt;20 -->\n",
       "<g id=\"edge20\" class=\"edge\">\n",
       "<title>16&#45;&gt;20</title>\n",
       "<path fill=\"none\" stroke=\"black\" d=\"M1059.37,-192.88C1069.69,-181.45 1081.24,-168.63 1091.56,-157.19\"/>\n",
       "<polygon fill=\"black\" stroke=\"black\" points=\"1094.38,-159.29 1098.48,-149.52 1089.19,-154.6 1094.38,-159.29\"/>\n",
       "</g>\n",
       "<!-- 18 -->\n",
       "<g id=\"node19\" class=\"node\">\n",
       "<title>18</title>\n",
       "<path fill=\"#e58139\" stroke=\"black\" d=\"M836.5,-53C836.5,-53 708.5,-53 708.5,-53 702.5,-53 696.5,-47 696.5,-41 696.5,-41 696.5,-12 696.5,-12 696.5,-6 702.5,0 708.5,0 708.5,0 836.5,0 836.5,0 842.5,0 848.5,-6 848.5,-12 848.5,-12 848.5,-41 848.5,-41 848.5,-47 842.5,-53 836.5,-53\"/>\n",
       "<text text-anchor=\"start\" x=\"704.5\" y=\"-37.8\" font-family=\"Helvetica,sans-Serif\" font-size=\"14.00\">mse = 1425170.23</text>\n",
       "<text text-anchor=\"start\" x=\"724\" y=\"-22.8\" font-family=\"Helvetica,sans-Serif\" font-size=\"14.00\">samples = 42</text>\n",
       "<text text-anchor=\"start\" x=\"709\" y=\"-7.8\" font-family=\"Helvetica,sans-Serif\" font-size=\"14.00\">value = 6785.357</text>\n",
       "</g>\n",
       "<!-- 17&#45;&gt;18 -->\n",
       "<g id=\"edge18\" class=\"edge\">\n",
       "<title>17&#45;&gt;18</title>\n",
       "<path fill=\"none\" stroke=\"black\" d=\"M883.04,-88.95C865.02,-78.93 845.32,-67.98 827.59,-58.13\"/>\n",
       "<polygon fill=\"black\" stroke=\"black\" points=\"828.97,-54.89 818.53,-53.09 825.57,-61 828.97,-54.89\"/>\n",
       "</g>\n",
       "<!-- 19 -->\n",
       "<g id=\"node20\" class=\"node\">\n",
       "<title>19</title>\n",
       "<path fill=\"#ea985e\" stroke=\"black\" d=\"M1006.5,-53C1006.5,-53 878.5,-53 878.5,-53 872.5,-53 866.5,-47 866.5,-41 866.5,-41 866.5,-12 866.5,-12 866.5,-6 872.5,0 878.5,0 878.5,0 1006.5,0 1006.5,0 1012.5,0 1018.5,-6 1018.5,-12 1018.5,-12 1018.5,-41 1018.5,-41 1018.5,-47 1012.5,-53 1006.5,-53\"/>\n",
       "<text text-anchor=\"start\" x=\"874.5\" y=\"-37.8\" font-family=\"Helvetica,sans-Serif\" font-size=\"14.00\">mse = 1591425.38</text>\n",
       "<text text-anchor=\"start\" x=\"894\" y=\"-22.8\" font-family=\"Helvetica,sans-Serif\" font-size=\"14.00\">samples = 22</text>\n",
       "<text text-anchor=\"start\" x=\"879\" y=\"-7.8\" font-family=\"Helvetica,sans-Serif\" font-size=\"14.00\">value = 5819.727</text>\n",
       "</g>\n",
       "<!-- 17&#45;&gt;19 -->\n",
       "<g id=\"edge19\" class=\"edge\">\n",
       "<title>17&#45;&gt;19</title>\n",
       "<path fill=\"none\" stroke=\"black\" d=\"M942.5,-88.95C942.5,-80.72 942.5,-71.85 942.5,-63.48\"/>\n",
       "<polygon fill=\"black\" stroke=\"black\" points=\"946,-63.24 942.5,-53.24 939,-63.24 946,-63.24\"/>\n",
       "</g>\n",
       "<!-- 22 -->\n",
       "<g id=\"node23\" class=\"node\">\n",
       "<title>22</title>\n",
       "<path fill=\"#ea985d\" stroke=\"black\" d=\"M1354,-157C1354,-157 1235,-157 1235,-157 1229,-157 1223,-151 1223,-145 1223,-145 1223,-101 1223,-101 1223,-95 1229,-89 1235,-89 1235,-89 1354,-89 1354,-89 1360,-89 1366,-95 1366,-101 1366,-101 1366,-145 1366,-145 1366,-151 1360,-157 1354,-157\"/>\n",
       "<text text-anchor=\"start\" x=\"1241.5\" y=\"-141.8\" font-family=\"Helvetica,sans-Serif\" font-size=\"14.00\">atemp ≤ 0.668</text>\n",
       "<text text-anchor=\"start\" x=\"1231\" y=\"-126.8\" font-family=\"Helvetica,sans-Serif\" font-size=\"14.00\">mse = 2158019.9</text>\n",
       "<text text-anchor=\"start\" x=\"1246\" y=\"-111.8\" font-family=\"Helvetica,sans-Serif\" font-size=\"14.00\">samples = 87</text>\n",
       "<text text-anchor=\"start\" x=\"1231\" y=\"-96.8\" font-family=\"Helvetica,sans-Serif\" font-size=\"14.00\">value = 5843.667</text>\n",
       "</g>\n",
       "<!-- 21&#45;&gt;22 -->\n",
       "<g id=\"edge22\" class=\"edge\">\n",
       "<title>21&#45;&gt;22</title>\n",
       "<path fill=\"none\" stroke=\"black\" d=\"M1294.5,-192.88C1294.5,-184.78 1294.5,-175.98 1294.5,-167.47\"/>\n",
       "<polygon fill=\"black\" stroke=\"black\" points=\"1298,-167.3 1294.5,-157.3 1291,-167.3 1298,-167.3\"/>\n",
       "</g>\n",
       "<!-- 25 -->\n",
       "<g id=\"node26\" class=\"node\">\n",
       "<title>25</title>\n",
       "<path fill=\"#eeab7c\" stroke=\"black\" d=\"M1544,-157C1544,-157 1407,-157 1407,-157 1401,-157 1395,-151 1395,-145 1395,-145 1395,-101 1395,-101 1395,-95 1401,-89 1407,-89 1407,-89 1544,-89 1544,-89 1550,-89 1556,-95 1556,-101 1556,-101 1556,-145 1556,-145 1556,-151 1550,-157 1544,-157\"/>\n",
       "<text text-anchor=\"start\" x=\"1407\" y=\"-141.8\" font-family=\"Helvetica,sans-Serif\" font-size=\"14.00\">windspeed ≤ 0.202</text>\n",
       "<text text-anchor=\"start\" x=\"1403\" y=\"-126.8\" font-family=\"Helvetica,sans-Serif\" font-size=\"14.00\">mse = 1650767.284</text>\n",
       "<text text-anchor=\"start\" x=\"1427\" y=\"-111.8\" font-family=\"Helvetica,sans-Serif\" font-size=\"14.00\">samples = 54</text>\n",
       "<text text-anchor=\"start\" x=\"1412\" y=\"-96.8\" font-family=\"Helvetica,sans-Serif\" font-size=\"14.00\">value = 5022.778</text>\n",
       "</g>\n",
       "<!-- 21&#45;&gt;25 -->\n",
       "<g id=\"edge25\" class=\"edge\">\n",
       "<title>21&#45;&gt;25</title>\n",
       "<path fill=\"none\" stroke=\"black\" d=\"M1353.27,-192.88C1370.58,-183.12 1389.67,-172.37 1407.52,-162.31\"/>\n",
       "<polygon fill=\"black\" stroke=\"black\" points=\"1409.73,-165.08 1416.72,-157.12 1406.29,-158.99 1409.73,-165.08\"/>\n",
       "</g>\n",
       "<!-- 23 -->\n",
       "<g id=\"node24\" class=\"node\">\n",
       "<title>23</title>\n",
       "<path fill=\"#e99355\" stroke=\"black\" d=\"M1186,-53C1186,-53 1049,-53 1049,-53 1043,-53 1037,-47 1037,-41 1037,-41 1037,-12 1037,-12 1037,-6 1043,0 1049,0 1049,0 1186,0 1186,0 1192,0 1198,-6 1198,-12 1198,-12 1198,-41 1198,-41 1198,-47 1192,-53 1186,-53\"/>\n",
       "<text text-anchor=\"start\" x=\"1045\" y=\"-37.8\" font-family=\"Helvetica,sans-Serif\" font-size=\"14.00\">mse = 2219121.658</text>\n",
       "<text text-anchor=\"start\" x=\"1069\" y=\"-22.8\" font-family=\"Helvetica,sans-Serif\" font-size=\"14.00\">samples = 67</text>\n",
       "<text text-anchor=\"start\" x=\"1054\" y=\"-7.8\" font-family=\"Helvetica,sans-Serif\" font-size=\"14.00\">value = 6040.209</text>\n",
       "</g>\n",
       "<!-- 22&#45;&gt;23 -->\n",
       "<g id=\"edge23\" class=\"edge\">\n",
       "<title>22&#45;&gt;23</title>\n",
       "<path fill=\"none\" stroke=\"black\" d=\"M1232.59,-88.95C1213.66,-78.84 1192.94,-67.78 1174.36,-57.86\"/>\n",
       "<polygon fill=\"black\" stroke=\"black\" points=\"1175.89,-54.71 1165.42,-53.09 1172.6,-60.88 1175.89,-54.71\"/>\n",
       "</g>\n",
       "<!-- 24 -->\n",
       "<g id=\"node25\" class=\"node\">\n",
       "<title>24</title>\n",
       "<path fill=\"#eda876\" stroke=\"black\" d=\"M1365,-53C1365,-53 1228,-53 1228,-53 1222,-53 1216,-47 1216,-41 1216,-41 1216,-12 1216,-12 1216,-6 1222,0 1228,0 1228,0 1365,0 1365,0 1371,0 1377,-6 1377,-12 1377,-12 1377,-41 1377,-41 1377,-47 1371,-53 1365,-53\"/>\n",
       "<text text-anchor=\"start\" x=\"1224\" y=\"-37.8\" font-family=\"Helvetica,sans-Serif\" font-size=\"14.00\">mse = 1390409.788</text>\n",
       "<text text-anchor=\"start\" x=\"1248\" y=\"-22.8\" font-family=\"Helvetica,sans-Serif\" font-size=\"14.00\">samples = 20</text>\n",
       "<text text-anchor=\"start\" x=\"1237.5\" y=\"-7.8\" font-family=\"Helvetica,sans-Serif\" font-size=\"14.00\">value = 5185.25</text>\n",
       "</g>\n",
       "<!-- 22&#45;&gt;24 -->\n",
       "<g id=\"edge24\" class=\"edge\">\n",
       "<title>22&#45;&gt;24</title>\n",
       "<path fill=\"none\" stroke=\"black\" d=\"M1295.2,-88.95C1295.37,-80.72 1295.56,-71.85 1295.74,-63.48\"/>\n",
       "<polygon fill=\"black\" stroke=\"black\" points=\"1299.24,-63.31 1295.96,-53.24 1292.24,-63.16 1299.24,-63.31\"/>\n",
       "</g>\n",
       "<!-- 26 -->\n",
       "<g id=\"node27\" class=\"node\">\n",
       "<title>26</title>\n",
       "<path fill=\"#eca471\" stroke=\"black\" d=\"M1544,-53C1544,-53 1407,-53 1407,-53 1401,-53 1395,-47 1395,-41 1395,-41 1395,-12 1395,-12 1395,-6 1401,0 1407,0 1407,0 1544,0 1544,0 1550,0 1556,-6 1556,-12 1556,-12 1556,-41 1556,-41 1556,-47 1550,-53 1544,-53\"/>\n",
       "<text text-anchor=\"start\" x=\"1403\" y=\"-37.8\" font-family=\"Helvetica,sans-Serif\" font-size=\"14.00\">mse = 1016498.159</text>\n",
       "<text text-anchor=\"start\" x=\"1427\" y=\"-22.8\" font-family=\"Helvetica,sans-Serif\" font-size=\"14.00\">samples = 23</text>\n",
       "<text text-anchor=\"start\" x=\"1412\" y=\"-7.8\" font-family=\"Helvetica,sans-Serif\" font-size=\"14.00\">value = 5313.565</text>\n",
       "</g>\n",
       "<!-- 25&#45;&gt;26 -->\n",
       "<g id=\"edge26\" class=\"edge\">\n",
       "<title>25&#45;&gt;26</title>\n",
       "<path fill=\"none\" stroke=\"black\" d=\"M1475.5,-88.95C1475.5,-80.72 1475.5,-71.85 1475.5,-63.48\"/>\n",
       "<polygon fill=\"black\" stroke=\"black\" points=\"1479,-63.24 1475.5,-53.24 1472,-63.24 1479,-63.24\"/>\n",
       "</g>\n",
       "<!-- 27 -->\n",
       "<g id=\"node28\" class=\"node\">\n",
       "<title>27</title>\n",
       "<path fill=\"#efb184\" stroke=\"black\" d=\"M1723,-53C1723,-53 1586,-53 1586,-53 1580,-53 1574,-47 1574,-41 1574,-41 1574,-12 1574,-12 1574,-6 1580,0 1586,0 1586,0 1723,0 1723,0 1729,0 1735,-6 1735,-12 1735,-12 1735,-41 1735,-41 1735,-47 1729,-53 1723,-53\"/>\n",
       "<text text-anchor=\"start\" x=\"1582\" y=\"-37.8\" font-family=\"Helvetica,sans-Serif\" font-size=\"14.00\">mse = 2012071.838</text>\n",
       "<text text-anchor=\"start\" x=\"1606\" y=\"-22.8\" font-family=\"Helvetica,sans-Serif\" font-size=\"14.00\">samples = 31</text>\n",
       "<text text-anchor=\"start\" x=\"1591\" y=\"-7.8\" font-family=\"Helvetica,sans-Serif\" font-size=\"14.00\">value = 4807.032</text>\n",
       "</g>\n",
       "<!-- 25&#45;&gt;27 -->\n",
       "<g id=\"edge27\" class=\"edge\">\n",
       "<title>25&#45;&gt;27</title>\n",
       "<path fill=\"none\" stroke=\"black\" d=\"M1538.11,-88.95C1557.25,-78.84 1578.21,-67.78 1597,-57.86\"/>\n",
       "<polygon fill=\"black\" stroke=\"black\" points=\"1598.82,-60.85 1606.03,-53.09 1595.56,-54.66 1598.82,-60.85\"/>\n",
       "</g>\n",
       "</g>\n",
       "</svg>\n"
      ],
      "text/plain": [
       "<graphviz.sources.Source at 0x7f797be9f070>"
      ]
     },
     "execution_count": 23,
     "metadata": {},
     "output_type": "execute_result"
    }
   ],
   "source": [
    "graph_opt = get_graphviz_graph(model)\n",
    "graph_opt"
   ]
  },
  {
   "cell_type": "markdown",
   "metadata": {},
   "source": [
    "Решающее дерево позволяет оценить *важность признаков* &mdash; некоторая величина, зависящая от того\n",
    "* насколько часто тот или иной признак использовался при разбиении листа, \n",
    "* и насколько сильно при этом изменился критерий информативности.\n",
    "\n",
    "У обученной модели значения важности признаков лежат в поле `feature_importances_`. Визуализируйте их с помощью `seaborn.barplot`."
   ]
  },
  {
   "cell_type": "code",
   "execution_count": 24,
   "metadata": {},
   "outputs": [],
   "source": [
    "x_cor = [model.feature_importances_[i] for i in range(len(model.feature_importances_)) if model.feature_importances_[i] != 0]\n",
    "y_cor = [[*real_features, *new_categorial_features][i] for i in range(len(model.feature_importances_)) if model.feature_importances_[i] != 0]"
   ]
  },
  {
   "cell_type": "code",
   "execution_count": 25,
   "metadata": {},
   "outputs": [
    {
     "data": {
      "image/png": "[encoded data removed]",
      "text/plain": [
       "<Figure size 1368x504 with 1 Axes>"
      ]
     },
     "metadata": {
      "needs_background": "light"
     },
     "output_type": "display_data"
    }
   ],
   "source": [
    "plt.figure(figsize=(19,7))\n",
    "graphic = sns.barplot(y=y_cor, x=x_cor)\n",
    "graphic.set_xlabel(\"Степень зависимости\")\n",
    "graphic.set_title('Уровень зависимости модели от признаков', fontsize = 19, fontweight = \"bold\")\n",
    "plt.show()"
   ]
  },
  {
   "cell_type": "markdown",
   "metadata": {},
   "source": [
    "В данной гистограмме изображены категории, которые имеют хотя бы какую-то степень зависимости."
   ]
  },
  {
   "cell_type": "code",
   "execution_count": 26,
   "metadata": {},
   "outputs": [
    {
     "data": {
      "text/plain": [
       "array([0.69793483, 0.11492857, 0.1357496 , 0.02709296, 0.        ,\n",
       "       0.        , 0.        , 0.02429404, 0.        , 0.        ,\n",
       "       0.        , 0.        , 0.        , 0.        , 0.        ,\n",
       "       0.        , 0.        , 0.        , 0.        , 0.        ,\n",
       "       0.        , 0.        , 0.        , 0.        , 0.        ,\n",
       "       0.        , 0.        , 0.        , 0.        , 0.        ,\n",
       "       0.        ])"
      ]
     },
     "execution_count": 26,
     "metadata": {},
     "output_type": "execute_result"
    }
   ],
   "source": [
    "model.feature_importances_"
   ]
  },
  {
   "cell_type": "markdown",
   "metadata": {},
   "source": [
    "Сделайте выводы."
   ]
  },
  {
   "cell_type": "markdown",
   "metadata": {},
   "source": [
    "**Вывод:**"
   ]
  },
  {
   "cell_type": "markdown",
   "metadata": {},
   "source": [
    "**1)** В первой части на валидационной выборке были протестированы и получены такие параметры, как максимальная глубина дерева и минимальное количество наблюдений в листе.\n",
    "\n",
    "**2)** Если сравнивать результаты с полученными результатами в прошлом задании, где все было подсчитано градиентным спуском, то можно увидеть, что результаты метрик, примерно, одни и те же. Однако в данном случае мы получили разные оценки влияния признаков. Так, например, из категориальных признаков значимым является только зима.Это можно объяснить тем, что зимой резко снижается количество арендованных велосипедов. Наиболее значимым признаком оказалась температура."
   ]
  },
  {
   "cell_type": "markdown",
   "metadata": {},
   "source": [
    "---\n",
    "### Задача 3.\n",
    "\n",
    "Для данных из предыдущей части обучите случайный лес на 500 деревьев."
   ]
  },
  {
   "cell_type": "code",
   "execution_count": 27,
   "metadata": {},
   "outputs": [
    {
     "data": {
      "text/plain": [
       "RandomForestRegressor(n_estimators=500)"
      ]
     },
     "execution_count": 27,
     "metadata": {},
     "output_type": "execute_result"
    }
   ],
   "source": [
    "model_forest = RandomForestRegressor(n_estimators=500)\n",
    "model_forest.fit(X_train, y_train)"
   ]
  },
  {
   "cell_type": "code",
   "execution_count": 28,
   "metadata": {},
   "outputs": [],
   "source": [
    "pred_forest = model_forest.predict(X_test)"
   ]
  },
  {
   "cell_type": "markdown",
   "metadata": {},
   "source": [
    "MSE"
   ]
  },
  {
   "cell_type": "code",
   "execution_count": 29,
   "metadata": {},
   "outputs": [
    {
     "name": "stdout",
     "output_type": "stream",
     "text": [
      "1243.7863560082135\n"
     ]
    }
   ],
   "source": [
    "print(metrics.mean_squared_error(test[target_feature], pred_forest) ** 0.5)"
   ]
  },
  {
   "cell_type": "markdown",
   "metadata": {},
   "source": [
    "MAE"
   ]
  },
  {
   "cell_type": "code",
   "execution_count": 30,
   "metadata": {},
   "outputs": [
    {
     "name": "stdout",
     "output_type": "stream",
     "text": [
      "1014.8080680272109\n"
     ]
    }
   ],
   "source": [
    "print(metrics.mean_absolute_error(test[target_feature], pred_forest))"
   ]
  },
  {
   "cell_type": "markdown",
   "metadata": {},
   "source": [
    "MAPE"
   ]
  },
  {
   "cell_type": "code",
   "execution_count": 31,
   "metadata": {},
   "outputs": [
    {
     "name": "stdout",
     "output_type": "stream",
     "text": [
      "35.677621876042224\n"
     ]
    }
   ],
   "source": [
    "print(mean_absolute_percentage_error(test[target_feature], pred_forest))"
   ]
  },
  {
   "cell_type": "markdown",
   "metadata": {},
   "source": [
    "Постройте график зависимости точности модели в зависимости от количества деревьев для обучающей и валидационной выборок.\n",
    "\n",
    "*Замечание.* Не нужно заново обучать лес каждый раз. Используйте у обученной модели поле `estimators_`, это список из объектов класса `DecisionTreeRegressor`."
   ]
  },
  {
   "cell_type": "code",
   "execution_count": 32,
   "metadata": {},
   "outputs": [],
   "source": [
    "valid_metric_forest = []\n",
    "train_metric_forest = []\n",
    "for count_forest in range(1, 501):\n",
    "    valid_metric_forest.append(metrics.mean_squared_error(valid[target_feature], np.mean(list(map(lambda x: x.predict(X_valid), model_forest.estimators_[0:count_forest])), axis = 0)) ** 0.5)\n",
    "    train_metric_forest.append(metrics.mean_squared_error(train[target_feature], np.mean(list(map(lambda x: x.predict(X_train), model_forest.estimators_[0:count_forest])), axis = 0)) ** 0.5)"
   ]
  },
  {
   "cell_type": "code",
   "execution_count": 33,
   "metadata": {},
   "outputs": [
    {
     "data": {
      "image/png": "[encoded data removed]",
      "text/plain": [
       "<Figure size 1080x360 with 1 Axes>"
      ]
     },
     "metadata": {},
     "output_type": "display_data"
    }
   ],
   "source": [
    "with sns.axes_style('darkgrid'):\n",
    "    fig, ax = plt.subplots(figsize=(15, 5))\n",
    "    ax.plot(range(1, 501), valid_metric_forest, label = 'валидационная выборка')\n",
    "    ax.plot(range(1, 501), train_metric_forest, label = 'обучающая выборка')\n",
    "    ax.set_xlabel('кол-во деревьев')\n",
    "    ax.set_ylabel(\"MSE\")\n",
    "    ax.legend()\n",
    "    ax.set_title(\"Зависимость MSE от кол-во деревьев в лесе\", fontsize = 19, fontweight = \"bold\")\n",
    "    plt.show()"
   ]
  },
  {
   "cell_type": "markdown",
   "metadata": {},
   "source": [
    "Для леса с максимальным количеством деревьев визуализируйте\n",
    "важность признаков, используя поле `feature_importances_`. "
   ]
  },
  {
   "cell_type": "code",
   "execution_count": 34,
   "metadata": {},
   "outputs": [],
   "source": [
    "x_cor_for = [model_forest.feature_importances_[i] for i in range(len(model_forest.feature_importances_)) if model_forest.feature_importances_[i] != 0]\n",
    "y_cor_for = [[*real_features, *new_categorial_features][i] for i in range(len(model_forest.feature_importances_)) if model_forest.feature_importances_[i] != 0]"
   ]
  },
  {
   "cell_type": "code",
   "execution_count": 35,
   "metadata": {},
   "outputs": [
    {
     "data": {
      "image/png": "[encoded data removed]",
      "text/plain": [
       "<Figure size 1440x1080 with 1 Axes>"
      ]
     },
     "metadata": {
      "needs_background": "light"
     },
     "output_type": "display_data"
    }
   ],
   "source": [
    "plt.figure(figsize=(20,15))\n",
    "graphic = sns.barplot(y=y_cor_for, x=x_cor_for)\n",
    "graphic.set_xlabel(\"Степень зависимости\")\n",
    "graphic.set_title('Уровень зависимости модели от признаков', fontsize = 23, fontweight = \"bold\")\n",
    "plt.show()"
   ]
  },
  {
   "cell_type": "markdown",
   "metadata": {},
   "source": [
    "Сделайте выводы."
   ]
  },
  {
   "cell_type": "markdown",
   "metadata": {},
   "source": [
    "**Вывод:**"
   ]
  },
  {
   "cell_type": "markdown",
   "metadata": {},
   "source": [
    "**1**) Легко заметить, что качество модели увеличивается с ростом количества дереьвев в случайном лесу. И к 500 уже фактически не меняется. Также стоит отметить, что качество улучшилось по сравнению с тем, которое мы получали во время обучения одного дерева.\n",
    "\n",
    "**2**) Что касается уровня зависимости модели от признаков, заметим, что ключевые признаки не изменились, однако можно увидеть влияние и других признаков, например, весны."
   ]
  }
 ],
 "metadata": {
  "kernelspec": {
   "display_name": "Python 3 (ipykernel)",
   "language": "python",
   "name": "python3"
  },
  "language_info": {
   "codemirror_mode": {
    "name": "ipython",
    "version": 3
   },
   "file_extension": ".py",
   "mimetype": "text/x-python",
   "name": "python",
   "nbconvert_exporter": "python",
   "pygments_lexer": "ipython3",
   "version": "3.9.7"
  }
 },
 "nbformat": 4,
 "nbformat_minor": 4
}
